{
 "cells": [
  {
   "metadata": {},
   "cell_type": "markdown",
   "source": "## Open dataset",
   "id": "9c16d2080b9d9445"
  },
  {
   "metadata": {
    "ExecuteTime": {
     "end_time": "2024-11-25T19:52:32.631679Z",
     "start_time": "2024-11-25T19:52:32.154478Z"
    }
   },
   "cell_type": "code",
   "source": [
    "import pandas as pd\n",
    "import os\n",
    "# Get names of all files in directory\n",
    "files = os.listdir(\"core_dataset/annotation/\")\n",
    "\n",
    "# Create an empty list to store rows\n",
    "rows = []\n",
    "\n",
    "for file_name in files:\n",
    "    with open(\"core_dataset/annotation/\" + file_name) as f:\n",
    "        lines = f.readlines()\n",
    "    data = [line.strip().split(',') for line in lines]\n",
    "    rows.extend(data)\n",
    "    \n",
    "df = pd.DataFrame(rows, columns=[\"source_video\", \"target_video\", \"source_start\", \"source_end\", \"target_start\", \"target_end\"])\n",
    "df.shape"
   ],
   "id": "1a707e826373099f",
   "outputs": [
    {
     "data": {
      "text/plain": [
       "(9236, 6)"
      ]
     },
     "execution_count": 1,
     "metadata": {},
     "output_type": "execute_result"
    }
   ],
   "execution_count": 1
  },
  {
   "metadata": {
    "ExecuteTime": {
     "end_time": "2024-11-25T19:52:32.974561Z",
     "start_time": "2024-11-25T19:52:32.703428Z"
    }
   },
   "cell_type": "code",
   "source": [
    "for i in range(len(df)):\n",
    "    if df[\"source_video\"][i] == df[\"target_video\"][i]:\n",
    "        # drop \n",
    "        df = df.drop(i)\n",
    "df.reset_index(drop=True, inplace=True)\n",
    "df.shape"
   ],
   "id": "2d5d5c7a508b4a6",
   "outputs": [
    {
     "data": {
      "text/plain": [
       "(8708, 6)"
      ]
     },
     "execution_count": 2,
     "metadata": {},
     "output_type": "execute_result"
    }
   ],
   "execution_count": 2
  },
  {
   "metadata": {
    "ExecuteTime": {
     "end_time": "2024-11-25T19:52:33.071244Z",
     "start_time": "2024-11-25T19:52:33.065711Z"
    }
   },
   "cell_type": "code",
   "source": "df.head()",
   "id": "a1af6168fd8037fd",
   "outputs": [
    {
     "data": {
      "text/plain": [
       "                                   source_video  \\\n",
       "0  3504e360accbaccb1580befbb441f1019664c2bb.mp4   \n",
       "1  3504e360accbaccb1580befbb441f1019664c2bb.mp4   \n",
       "2  3504e360accbaccb1580befbb441f1019664c2bb.mp4   \n",
       "3  3504e360accbaccb1580befbb441f1019664c2bb.mp4   \n",
       "4  3504e360accbaccb1580befbb441f1019664c2bb.mp4   \n",
       "\n",
       "                                   target_video source_start source_end  \\\n",
       "0  37b31d607d31a47d347b15dae2b8aa63e57861eb.flv     00:00:03   00:00:05   \n",
       "1  37b31d607d31a47d347b15dae2b8aa63e57861eb.flv     00:00:03   00:00:05   \n",
       "2  458db5aa227ae49ceb8bc1bed5f9cf5b4bed63f2.flv     00:00:00   00:00:07   \n",
       "3  5c5714c0a56fd2a96f99db2f59b0d03659d77cdf.flv     00:00:00   00:00:04   \n",
       "4  67824b87c0698c499acad123b7498ae17f97bf6d.flv     00:00:00   00:00:06   \n",
       "\n",
       "  target_start target_end  \n",
       "0     00:00:33   00:00:35  \n",
       "1     00:00:41   00:00:45  \n",
       "2     00:00:05   00:00:12  \n",
       "3     00:00:06   00:00:10  \n",
       "4     00:00:00   00:00:06  "
      ],
      "text/html": [
       "<div>\n",
       "<style scoped>\n",
       "    .dataframe tbody tr th:only-of-type {\n",
       "        vertical-align: middle;\n",
       "    }\n",
       "\n",
       "    .dataframe tbody tr th {\n",
       "        vertical-align: top;\n",
       "    }\n",
       "\n",
       "    .dataframe thead th {\n",
       "        text-align: right;\n",
       "    }\n",
       "</style>\n",
       "<table border=\"1\" class=\"dataframe\">\n",
       "  <thead>\n",
       "    <tr style=\"text-align: right;\">\n",
       "      <th></th>\n",
       "      <th>source_video</th>\n",
       "      <th>target_video</th>\n",
       "      <th>source_start</th>\n",
       "      <th>source_end</th>\n",
       "      <th>target_start</th>\n",
       "      <th>target_end</th>\n",
       "    </tr>\n",
       "  </thead>\n",
       "  <tbody>\n",
       "    <tr>\n",
       "      <th>0</th>\n",
       "      <td>3504e360accbaccb1580befbb441f1019664c2bb.mp4</td>\n",
       "      <td>37b31d607d31a47d347b15dae2b8aa63e57861eb.flv</td>\n",
       "      <td>00:00:03</td>\n",
       "      <td>00:00:05</td>\n",
       "      <td>00:00:33</td>\n",
       "      <td>00:00:35</td>\n",
       "    </tr>\n",
       "    <tr>\n",
       "      <th>1</th>\n",
       "      <td>3504e360accbaccb1580befbb441f1019664c2bb.mp4</td>\n",
       "      <td>37b31d607d31a47d347b15dae2b8aa63e57861eb.flv</td>\n",
       "      <td>00:00:03</td>\n",
       "      <td>00:00:05</td>\n",
       "      <td>00:00:41</td>\n",
       "      <td>00:00:45</td>\n",
       "    </tr>\n",
       "    <tr>\n",
       "      <th>2</th>\n",
       "      <td>3504e360accbaccb1580befbb441f1019664c2bb.mp4</td>\n",
       "      <td>458db5aa227ae49ceb8bc1bed5f9cf5b4bed63f2.flv</td>\n",
       "      <td>00:00:00</td>\n",
       "      <td>00:00:07</td>\n",
       "      <td>00:00:05</td>\n",
       "      <td>00:00:12</td>\n",
       "    </tr>\n",
       "    <tr>\n",
       "      <th>3</th>\n",
       "      <td>3504e360accbaccb1580befbb441f1019664c2bb.mp4</td>\n",
       "      <td>5c5714c0a56fd2a96f99db2f59b0d03659d77cdf.flv</td>\n",
       "      <td>00:00:00</td>\n",
       "      <td>00:00:04</td>\n",
       "      <td>00:00:06</td>\n",
       "      <td>00:00:10</td>\n",
       "    </tr>\n",
       "    <tr>\n",
       "      <th>4</th>\n",
       "      <td>3504e360accbaccb1580befbb441f1019664c2bb.mp4</td>\n",
       "      <td>67824b87c0698c499acad123b7498ae17f97bf6d.flv</td>\n",
       "      <td>00:00:00</td>\n",
       "      <td>00:00:06</td>\n",
       "      <td>00:00:00</td>\n",
       "      <td>00:00:06</td>\n",
       "    </tr>\n",
       "  </tbody>\n",
       "</table>\n",
       "</div>"
      ]
     },
     "execution_count": 3,
     "metadata": {},
     "output_type": "execute_result"
    }
   ],
   "execution_count": 3
  },
  {
   "metadata": {},
   "cell_type": "markdown",
   "source": "## Parse time",
   "id": "e1a5b9df0d065c96"
  },
  {
   "metadata": {
    "ExecuteTime": {
     "end_time": "2024-11-25T17:40:29.896298Z",
     "start_time": "2024-11-25T17:40:29.676014Z"
    }
   },
   "cell_type": "code",
   "source": [
    "import time\n",
    "init_time = time.mktime(time.strptime(\"00:00:00\", \"%H:%M:%S\"))\n",
    "df[\"source_start\"] = df[\"source_start\"].apply(lambda x: time.mktime(time.strptime(x, \"%H:%M:%S\")) - init_time)\n",
    "df[\"source_end\"] = df[\"source_end\"].apply(lambda x: time.mktime(time.strptime(x, \"%H:%M:%S\")) - init_time)\n",
    "df[\"target_start\"] = df[\"target_start\"].apply(lambda x: time.mktime(time.strptime(x, \"%H:%M:%S\")) - init_time)\n",
    "df[\"target_end\"] = df[\"target_end\"].apply(lambda x: time.mktime(time.strptime(x, \"%H:%M:%S\")) - init_time)\n",
    "df.head()"
   ],
   "id": "f3e84752fc6da40f",
   "outputs": [
    {
     "data": {
      "text/plain": [
       "                                   source_video  \\\n",
       "0  3504e360accbaccb1580befbb441f1019664c2bb.mp4   \n",
       "1  3504e360accbaccb1580befbb441f1019664c2bb.mp4   \n",
       "2  3504e360accbaccb1580befbb441f1019664c2bb.mp4   \n",
       "3  3504e360accbaccb1580befbb441f1019664c2bb.mp4   \n",
       "4  3504e360accbaccb1580befbb441f1019664c2bb.mp4   \n",
       "\n",
       "                                   target_video  source_start  source_end  \\\n",
       "0  37b31d607d31a47d347b15dae2b8aa63e57861eb.flv           3.0         5.0   \n",
       "1  37b31d607d31a47d347b15dae2b8aa63e57861eb.flv           3.0         5.0   \n",
       "2  458db5aa227ae49ceb8bc1bed5f9cf5b4bed63f2.flv           0.0         7.0   \n",
       "3  5c5714c0a56fd2a96f99db2f59b0d03659d77cdf.flv           0.0         4.0   \n",
       "4  67824b87c0698c499acad123b7498ae17f97bf6d.flv           0.0         6.0   \n",
       "\n",
       "   target_start  target_end  \n",
       "0          33.0        35.0  \n",
       "1          41.0        45.0  \n",
       "2           5.0        12.0  \n",
       "3           6.0        10.0  \n",
       "4           0.0         6.0  "
      ],
      "text/html": [
       "<div>\n",
       "<style scoped>\n",
       "    .dataframe tbody tr th:only-of-type {\n",
       "        vertical-align: middle;\n",
       "    }\n",
       "\n",
       "    .dataframe tbody tr th {\n",
       "        vertical-align: top;\n",
       "    }\n",
       "\n",
       "    .dataframe thead th {\n",
       "        text-align: right;\n",
       "    }\n",
       "</style>\n",
       "<table border=\"1\" class=\"dataframe\">\n",
       "  <thead>\n",
       "    <tr style=\"text-align: right;\">\n",
       "      <th></th>\n",
       "      <th>source_video</th>\n",
       "      <th>target_video</th>\n",
       "      <th>source_start</th>\n",
       "      <th>source_end</th>\n",
       "      <th>target_start</th>\n",
       "      <th>target_end</th>\n",
       "    </tr>\n",
       "  </thead>\n",
       "  <tbody>\n",
       "    <tr>\n",
       "      <th>0</th>\n",
       "      <td>3504e360accbaccb1580befbb441f1019664c2bb.mp4</td>\n",
       "      <td>37b31d607d31a47d347b15dae2b8aa63e57861eb.flv</td>\n",
       "      <td>3.0</td>\n",
       "      <td>5.0</td>\n",
       "      <td>33.0</td>\n",
       "      <td>35.0</td>\n",
       "    </tr>\n",
       "    <tr>\n",
       "      <th>1</th>\n",
       "      <td>3504e360accbaccb1580befbb441f1019664c2bb.mp4</td>\n",
       "      <td>37b31d607d31a47d347b15dae2b8aa63e57861eb.flv</td>\n",
       "      <td>3.0</td>\n",
       "      <td>5.0</td>\n",
       "      <td>41.0</td>\n",
       "      <td>45.0</td>\n",
       "    </tr>\n",
       "    <tr>\n",
       "      <th>2</th>\n",
       "      <td>3504e360accbaccb1580befbb441f1019664c2bb.mp4</td>\n",
       "      <td>458db5aa227ae49ceb8bc1bed5f9cf5b4bed63f2.flv</td>\n",
       "      <td>0.0</td>\n",
       "      <td>7.0</td>\n",
       "      <td>5.0</td>\n",
       "      <td>12.0</td>\n",
       "    </tr>\n",
       "    <tr>\n",
       "      <th>3</th>\n",
       "      <td>3504e360accbaccb1580befbb441f1019664c2bb.mp4</td>\n",
       "      <td>5c5714c0a56fd2a96f99db2f59b0d03659d77cdf.flv</td>\n",
       "      <td>0.0</td>\n",
       "      <td>4.0</td>\n",
       "      <td>6.0</td>\n",
       "      <td>10.0</td>\n",
       "    </tr>\n",
       "    <tr>\n",
       "      <th>4</th>\n",
       "      <td>3504e360accbaccb1580befbb441f1019664c2bb.mp4</td>\n",
       "      <td>67824b87c0698c499acad123b7498ae17f97bf6d.flv</td>\n",
       "      <td>0.0</td>\n",
       "      <td>6.0</td>\n",
       "      <td>0.0</td>\n",
       "      <td>6.0</td>\n",
       "    </tr>\n",
       "  </tbody>\n",
       "</table>\n",
       "</div>"
      ]
     },
     "execution_count": 7,
     "metadata": {},
     "output_type": "execute_result"
    }
   ],
   "execution_count": 7
  },
  {
   "metadata": {},
   "cell_type": "markdown",
   "source": "## Find connected components for duplicate videos",
   "id": "6a91274ba6d57f07"
  },
  {
   "metadata": {
    "ExecuteTime": {
     "end_time": "2024-11-25T17:40:30.388430Z",
     "start_time": "2024-11-25T17:40:29.945574Z"
    }
   },
   "cell_type": "code",
   "source": [
    "import networkx as nx\n",
    "\n",
    "# Create a graph\n",
    "G = nx.Graph()\n",
    "\n",
    "# Add edges to the graph\n",
    "for _, row in df.iterrows():\n",
    "    source = (row['source_video'], row['source_start'], row['source_end'])\n",
    "    target = (row['target_video'], row['target_start'], row['target_end'])\n",
    "    G.add_edge(source, target)\n",
    "\n",
    "# Find connected components\n",
    "connected_components = list(nx.connected_components(G))\n",
    "\n",
    "# Assign group IDs\n",
    "group_mapping = {}\n",
    "for group_id, component in enumerate(connected_components):\n",
    "    for node in component:\n",
    "        group_mapping[node] = group_id\n",
    "\n",
    "# Add group IDs to the original dataframe\n",
    "df['group'] = df.apply(\n",
    "    lambda row: group_mapping[(row['source_video'], row['source_start'], row['source_end'])], axis=1\n",
    ")"
   ],
   "id": "da8208b28969c2e8",
   "outputs": [],
   "execution_count": 8
  },
  {
   "metadata": {
    "ExecuteTime": {
     "end_time": "2024-11-25T17:40:30.460874Z",
     "start_time": "2024-11-25T17:40:30.454932Z"
    }
   },
   "cell_type": "code",
   "source": "df.head()",
   "id": "7d74f50b01460c7f",
   "outputs": [
    {
     "data": {
      "text/plain": [
       "                                   source_video  \\\n",
       "0  3504e360accbaccb1580befbb441f1019664c2bb.mp4   \n",
       "1  3504e360accbaccb1580befbb441f1019664c2bb.mp4   \n",
       "2  3504e360accbaccb1580befbb441f1019664c2bb.mp4   \n",
       "3  3504e360accbaccb1580befbb441f1019664c2bb.mp4   \n",
       "4  3504e360accbaccb1580befbb441f1019664c2bb.mp4   \n",
       "\n",
       "                                   target_video  source_start  source_end  \\\n",
       "0  37b31d607d31a47d347b15dae2b8aa63e57861eb.flv           3.0         5.0   \n",
       "1  37b31d607d31a47d347b15dae2b8aa63e57861eb.flv           3.0         5.0   \n",
       "2  458db5aa227ae49ceb8bc1bed5f9cf5b4bed63f2.flv           0.0         7.0   \n",
       "3  5c5714c0a56fd2a96f99db2f59b0d03659d77cdf.flv           0.0         4.0   \n",
       "4  67824b87c0698c499acad123b7498ae17f97bf6d.flv           0.0         6.0   \n",
       "\n",
       "   target_start  target_end  group  \n",
       "0          33.0        35.0      0  \n",
       "1          41.0        45.0      0  \n",
       "2           5.0        12.0      1  \n",
       "3           6.0        10.0      2  \n",
       "4           0.0         6.0      3  "
      ],
      "text/html": [
       "<div>\n",
       "<style scoped>\n",
       "    .dataframe tbody tr th:only-of-type {\n",
       "        vertical-align: middle;\n",
       "    }\n",
       "\n",
       "    .dataframe tbody tr th {\n",
       "        vertical-align: top;\n",
       "    }\n",
       "\n",
       "    .dataframe thead th {\n",
       "        text-align: right;\n",
       "    }\n",
       "</style>\n",
       "<table border=\"1\" class=\"dataframe\">\n",
       "  <thead>\n",
       "    <tr style=\"text-align: right;\">\n",
       "      <th></th>\n",
       "      <th>source_video</th>\n",
       "      <th>target_video</th>\n",
       "      <th>source_start</th>\n",
       "      <th>source_end</th>\n",
       "      <th>target_start</th>\n",
       "      <th>target_end</th>\n",
       "      <th>group</th>\n",
       "    </tr>\n",
       "  </thead>\n",
       "  <tbody>\n",
       "    <tr>\n",
       "      <th>0</th>\n",
       "      <td>3504e360accbaccb1580befbb441f1019664c2bb.mp4</td>\n",
       "      <td>37b31d607d31a47d347b15dae2b8aa63e57861eb.flv</td>\n",
       "      <td>3.0</td>\n",
       "      <td>5.0</td>\n",
       "      <td>33.0</td>\n",
       "      <td>35.0</td>\n",
       "      <td>0</td>\n",
       "    </tr>\n",
       "    <tr>\n",
       "      <th>1</th>\n",
       "      <td>3504e360accbaccb1580befbb441f1019664c2bb.mp4</td>\n",
       "      <td>37b31d607d31a47d347b15dae2b8aa63e57861eb.flv</td>\n",
       "      <td>3.0</td>\n",
       "      <td>5.0</td>\n",
       "      <td>41.0</td>\n",
       "      <td>45.0</td>\n",
       "      <td>0</td>\n",
       "    </tr>\n",
       "    <tr>\n",
       "      <th>2</th>\n",
       "      <td>3504e360accbaccb1580befbb441f1019664c2bb.mp4</td>\n",
       "      <td>458db5aa227ae49ceb8bc1bed5f9cf5b4bed63f2.flv</td>\n",
       "      <td>0.0</td>\n",
       "      <td>7.0</td>\n",
       "      <td>5.0</td>\n",
       "      <td>12.0</td>\n",
       "      <td>1</td>\n",
       "    </tr>\n",
       "    <tr>\n",
       "      <th>3</th>\n",
       "      <td>3504e360accbaccb1580befbb441f1019664c2bb.mp4</td>\n",
       "      <td>5c5714c0a56fd2a96f99db2f59b0d03659d77cdf.flv</td>\n",
       "      <td>0.0</td>\n",
       "      <td>4.0</td>\n",
       "      <td>6.0</td>\n",
       "      <td>10.0</td>\n",
       "      <td>2</td>\n",
       "    </tr>\n",
       "    <tr>\n",
       "      <th>4</th>\n",
       "      <td>3504e360accbaccb1580befbb441f1019664c2bb.mp4</td>\n",
       "      <td>67824b87c0698c499acad123b7498ae17f97bf6d.flv</td>\n",
       "      <td>0.0</td>\n",
       "      <td>6.0</td>\n",
       "      <td>0.0</td>\n",
       "      <td>6.0</td>\n",
       "      <td>3</td>\n",
       "    </tr>\n",
       "  </tbody>\n",
       "</table>\n",
       "</div>"
      ]
     },
     "execution_count": 9,
     "metadata": {},
     "output_type": "execute_result"
    }
   ],
   "execution_count": 9
  },
  {
   "metadata": {
    "ExecuteTime": {
     "end_time": "2024-11-25T17:40:30.515320Z",
     "start_time": "2024-11-25T17:40:30.510535Z"
    }
   },
   "cell_type": "code",
   "source": "df.group.value_counts()",
   "id": "c0cd40b73ed2a0a6",
   "outputs": [
    {
     "data": {
      "text/plain": [
       "group\n",
       "262     598\n",
       "267     217\n",
       "209     175\n",
       "211     164\n",
       "765     157\n",
       "       ... \n",
       "1274      1\n",
       "1275      1\n",
       "1276      1\n",
       "1277      1\n",
       "1279      1\n",
       "Name: count, Length: 1332, dtype: int64"
      ]
     },
     "execution_count": 10,
     "metadata": {},
     "output_type": "execute_result"
    }
   ],
   "execution_count": 10
  },
  {
   "metadata": {},
   "cell_type": "markdown",
   "source": "## Add category and group (component) information into dataframe",
   "id": "be8da24c55381d17"
  },
  {
   "metadata": {
    "ExecuteTime": {
     "end_time": "2024-11-25T17:40:30.674232Z",
     "start_time": "2024-11-25T17:40:30.668017Z"
    }
   },
   "cell_type": "code",
   "source": [
    "dirs = os.listdir(\"../core_dataset/core_dataset/\")\n",
    "video2dir = {}\n",
    "for dir in dirs:\n",
    "    videos = os.listdir(\"../core_dataset/core_dataset/\" + dir)\n",
    "    for video in videos:\n",
    "        video2dir[video] = dir"
   ],
   "id": "fb685f6d40990bc9",
   "outputs": [],
   "execution_count": 11
  },
  {
   "metadata": {
    "ExecuteTime": {
     "end_time": "2024-11-25T17:40:58.946930Z",
     "start_time": "2024-11-25T17:40:30.716405Z"
    }
   },
   "cell_type": "code",
   "source": [
    "from moviepy import *\n",
    "from tqdm import tqdm\n",
    "\n",
    "video_lengths = {}\n",
    "\n",
    "for video_name in tqdm(video2dir.keys()):\n",
    "    dir = video2dir[video_name]\n",
    "    video = VideoFileClip(\"../core_dataset/core_dataset/\" + dir + \"/\" + video_name)\n",
    "    duration = video.duration\n",
    "    video_lengths[video_name] = duration\n",
    "    # close video\n",
    "    video.close()"
   ],
   "id": "2ee126203a47853b",
   "outputs": [
    {
     "name": "stderr",
     "output_type": "stream",
     "text": [
      "100%|██████████| 528/528 [00:27<00:00, 18.90it/s]\n"
     ]
    }
   ],
   "execution_count": 12
  },
  {
   "metadata": {
    "ExecuteTime": {
     "end_time": "2024-11-25T17:40:59.023220Z",
     "start_time": "2024-11-25T17:40:59.011641Z"
    }
   },
   "cell_type": "code",
   "source": [
    "df['category'] = df['source_video'].apply(lambda x: video2dir[x] if x in video2dir else None)\n",
    "df['is_duplicate'] = True\n",
    "# remove nan values\n",
    "df = df.dropna()\n",
    "df.reset_index(drop=True, inplace=True)\n",
    "df.head()"
   ],
   "id": "387254369e8f148e",
   "outputs": [
    {
     "data": {
      "text/plain": [
       "                                   source_video  \\\n",
       "0  3504e360accbaccb1580befbb441f1019664c2bb.mp4   \n",
       "1  3504e360accbaccb1580befbb441f1019664c2bb.mp4   \n",
       "2  3504e360accbaccb1580befbb441f1019664c2bb.mp4   \n",
       "3  3504e360accbaccb1580befbb441f1019664c2bb.mp4   \n",
       "4  3504e360accbaccb1580befbb441f1019664c2bb.mp4   \n",
       "\n",
       "                                   target_video  source_start  source_end  \\\n",
       "0  37b31d607d31a47d347b15dae2b8aa63e57861eb.flv           3.0         5.0   \n",
       "1  37b31d607d31a47d347b15dae2b8aa63e57861eb.flv           3.0         5.0   \n",
       "2  458db5aa227ae49ceb8bc1bed5f9cf5b4bed63f2.flv           0.0         7.0   \n",
       "3  5c5714c0a56fd2a96f99db2f59b0d03659d77cdf.flv           0.0         4.0   \n",
       "4  67824b87c0698c499acad123b7498ae17f97bf6d.flv           0.0         6.0   \n",
       "\n",
       "   target_start  target_end  group             category  is_duplicate  \n",
       "0          33.0        35.0      0  baggio_penalty_1994          True  \n",
       "1          41.0        45.0      0  baggio_penalty_1994          True  \n",
       "2           5.0        12.0      1  baggio_penalty_1994          True  \n",
       "3           6.0        10.0      2  baggio_penalty_1994          True  \n",
       "4           0.0         6.0      3  baggio_penalty_1994          True  "
      ],
      "text/html": [
       "<div>\n",
       "<style scoped>\n",
       "    .dataframe tbody tr th:only-of-type {\n",
       "        vertical-align: middle;\n",
       "    }\n",
       "\n",
       "    .dataframe tbody tr th {\n",
       "        vertical-align: top;\n",
       "    }\n",
       "\n",
       "    .dataframe thead th {\n",
       "        text-align: right;\n",
       "    }\n",
       "</style>\n",
       "<table border=\"1\" class=\"dataframe\">\n",
       "  <thead>\n",
       "    <tr style=\"text-align: right;\">\n",
       "      <th></th>\n",
       "      <th>source_video</th>\n",
       "      <th>target_video</th>\n",
       "      <th>source_start</th>\n",
       "      <th>source_end</th>\n",
       "      <th>target_start</th>\n",
       "      <th>target_end</th>\n",
       "      <th>group</th>\n",
       "      <th>category</th>\n",
       "      <th>is_duplicate</th>\n",
       "    </tr>\n",
       "  </thead>\n",
       "  <tbody>\n",
       "    <tr>\n",
       "      <th>0</th>\n",
       "      <td>3504e360accbaccb1580befbb441f1019664c2bb.mp4</td>\n",
       "      <td>37b31d607d31a47d347b15dae2b8aa63e57861eb.flv</td>\n",
       "      <td>3.0</td>\n",
       "      <td>5.0</td>\n",
       "      <td>33.0</td>\n",
       "      <td>35.0</td>\n",
       "      <td>0</td>\n",
       "      <td>baggio_penalty_1994</td>\n",
       "      <td>True</td>\n",
       "    </tr>\n",
       "    <tr>\n",
       "      <th>1</th>\n",
       "      <td>3504e360accbaccb1580befbb441f1019664c2bb.mp4</td>\n",
       "      <td>37b31d607d31a47d347b15dae2b8aa63e57861eb.flv</td>\n",
       "      <td>3.0</td>\n",
       "      <td>5.0</td>\n",
       "      <td>41.0</td>\n",
       "      <td>45.0</td>\n",
       "      <td>0</td>\n",
       "      <td>baggio_penalty_1994</td>\n",
       "      <td>True</td>\n",
       "    </tr>\n",
       "    <tr>\n",
       "      <th>2</th>\n",
       "      <td>3504e360accbaccb1580befbb441f1019664c2bb.mp4</td>\n",
       "      <td>458db5aa227ae49ceb8bc1bed5f9cf5b4bed63f2.flv</td>\n",
       "      <td>0.0</td>\n",
       "      <td>7.0</td>\n",
       "      <td>5.0</td>\n",
       "      <td>12.0</td>\n",
       "      <td>1</td>\n",
       "      <td>baggio_penalty_1994</td>\n",
       "      <td>True</td>\n",
       "    </tr>\n",
       "    <tr>\n",
       "      <th>3</th>\n",
       "      <td>3504e360accbaccb1580befbb441f1019664c2bb.mp4</td>\n",
       "      <td>5c5714c0a56fd2a96f99db2f59b0d03659d77cdf.flv</td>\n",
       "      <td>0.0</td>\n",
       "      <td>4.0</td>\n",
       "      <td>6.0</td>\n",
       "      <td>10.0</td>\n",
       "      <td>2</td>\n",
       "      <td>baggio_penalty_1994</td>\n",
       "      <td>True</td>\n",
       "    </tr>\n",
       "    <tr>\n",
       "      <th>4</th>\n",
       "      <td>3504e360accbaccb1580befbb441f1019664c2bb.mp4</td>\n",
       "      <td>67824b87c0698c499acad123b7498ae17f97bf6d.flv</td>\n",
       "      <td>0.0</td>\n",
       "      <td>6.0</td>\n",
       "      <td>0.0</td>\n",
       "      <td>6.0</td>\n",
       "      <td>3</td>\n",
       "      <td>baggio_penalty_1994</td>\n",
       "      <td>True</td>\n",
       "    </tr>\n",
       "  </tbody>\n",
       "</table>\n",
       "</div>"
      ]
     },
     "execution_count": 13,
     "metadata": {},
     "output_type": "execute_result"
    }
   ],
   "execution_count": 13
  },
  {
   "metadata": {},
   "cell_type": "markdown",
   "source": [
    "## Find non-intersecting parts and insert into dataframe\n",
    "### Skip non-intersecting parts shorter than 5 seconds\n",
    "### Divide long non-intersecting parts into subparts of 15 seconds"
   ],
   "id": "698d639f45854382"
  },
  {
   "metadata": {
    "ExecuteTime": {
     "end_time": "2024-11-25T17:40:59.322637Z",
     "start_time": "2024-11-25T17:40:59.113256Z"
    }
   },
   "cell_type": "code",
   "source": [
    "# Helper function to merge intervals\n",
    "def merge_intervals(intervals):\n",
    "    \"\"\"Merge overlapping or adjacent intervals.\"\"\"\n",
    "    sorted_intervals = sorted(intervals, key=lambda x: x[0])  # Sort by start time\n",
    "    merged = []\n",
    "    for start, end in sorted_intervals:\n",
    "        if not merged or merged[-1][1] < start:  # No overlap\n",
    "            merged.append([start, end])\n",
    "        else:  # Overlap, merge intervals\n",
    "            merged[-1][1] = max(merged[-1][1], end)\n",
    "    return merged\n",
    "\n",
    "# Step 1: Collect all intervals for each video\n",
    "intervals = {}\n",
    "for _, row in df.iterrows():\n",
    "    for video, start, end in [\n",
    "        (row['source_video'], row['source_start'], row['source_end']),\n",
    "        (row['target_video'], row['target_start'], row['target_end'])\n",
    "    ]:\n",
    "        if video not in intervals:\n",
    "            intervals[video] = []\n",
    "        intervals[video].append([start, end])\n",
    "\n",
    "# Step 2: Merge intervals for each video\n",
    "merged_intervals = {video: merge_intervals(ranges) for video, ranges in intervals.items()}\n",
    "\n",
    "# Step 3: Find gaps in each video\n",
    "non_overlapping_segments = {}\n",
    "for video, length in video_lengths.items():\n",
    "    video_intervals = merged_intervals.get(video, [])\n",
    "    gaps = []\n",
    "    current_start = 0\n",
    "    for start, end in video_intervals:\n",
    "        if current_start < start:  # Gap before this interval\n",
    "            gaps.append([current_start, start])\n",
    "        current_start = max(current_start, end)\n",
    "    if current_start < length:  # Gap after the last interval\n",
    "        gaps.append([current_start, length])\n",
    "\n",
    "    # Step 4: Remove gaps where length < 5 seconds\n",
    "    filtered_gaps = [gap for gap in gaps if gap[1] - gap[0] >= 5]\n",
    "\n",
    "    # Only add to dictionary if there are valid gaps\n",
    "    if filtered_gaps:\n",
    "        non_overlapping_segments[video] = filtered_gaps\n",
    "\n",
    "\n",
    "\n",
    "# Output non-overlapping segments\n",
    "print(non_overlapping_segments)"
   ],
   "id": "1dc527ac36c37159",
   "outputs": [
    {
     "name": "stdout",
     "output_type": "stream",
     "text": [
      "{'37b31d607d31a47d347b15dae2b8aa63e57861eb.flv': [[0, 33.0], [35.0, 41.0], [45.0, 72.4]], '458db5aa227ae49ceb8bc1bed5f9cf5b4bed63f2.flv': [[0, 5.0], [12.0, 31.08]], '5c5714c0a56fd2a96f99db2f59b0d03659d77cdf.flv': [[0, 6.0], [10.0, 25.39]], '6d1a89c83d554fc6a5e39fcadb172a79baf140fd.mp4': [[0, 7.0], [12.0, 27.56]], '8084216caff6082b4e71ae4bbfe556f28a68485f.flv': [[0, 147.0], [150.0, 237.0], [241.0, 262.76]], 'bb604f57a18455867544e79c2e32bf5583c358d4.flv': [[0, 322.0], [329.0, 423.22]], '46f2e964ae16f5c27fad70d6849c76616fad7502.flv': [[0, 28.0], [161.0, 170.68]], '6171d3d87ae377e497199554033bca96a263277b.mp4': [[0, 131.73]], '0056649006c7a250cb4174f1e924768ba2c9d599.flv': [[0, 21.0], [49.0, 54.0], [58.0, 72.03]], '410ba1c253fb8d4a8ba6e59aa9e39d39cb3b245b.flv': [[0, 18.0]], '682329105c2fa291ceb13eebfe0544fb9a115c0b.flv': [[0, 7.0]], 'ab8bd55b3fefca37c7dc57e973a7cea1ae3555ad.flv': [[0, 7.0]], 'c1e67ad94259a2015304ee0b42323dd48f820309.flv': [[0, 7.0]], 'e9e65688a633e99bd3cc6e4078a2ef0157153cd5.flv': [[0, 7.0]], '098df9c477ecf6c4f3818b198490b0258163015d.flv': [[172.0, 231.04]], '0e3aee10650afd14d9a2d8b1440924c7968dd0ee.flv': [[0, 14.0]], '225eceebd0f24728bd1740f642de6705d43a4da0.flv': [[0, 14.0]], '2b1a3faf58c38efc393635e3cc007946914516d0.flv': [[0, 8.0], [11.0, 17.0], [35.0, 63.8]], '56b8c2103555cf056db670c7e952c1fa7418e73d.flv': [[172.0, 237.54]], '5b1b41404d1bad5d231bd8c7fdbae109e0ea1fc2.flv': [[0, 20.0]], 'c7d5eb4355e2ce9c90bf681e28ca740b1e7c62ca.flv': [[0, 29.0], [38.0, 179.78]], '09b682c899b0727e9990d8e347cdce3df7c5550e.flv': [[0, 15.0], [50.0, 83.78]], '54c560a6b270647b28ea2746853c937885e2718b.flv': [[143.0, 153.67000000000002]], '874a7d3cbfc17a46040b2d657667520bde309ca4.flv': [[0, 15.0], [21.0, 30.0]], 'd2015b438b70f022967713d6f977ebc67a16839e.flv': [[0, 85.0], [96.0, 174.0], [188.0, 193.0], [230.0, 278.0], [286.0, 317.0]], '127dab55025984673f65d3a23b1fea99ecc79b15.mp4': [[0, 79.0], [109.0, 300.85]], '7b2158aad4ea2e6c8f149bb869801b96734c1b1c.flv': [[1.0, 6.0], [57.0, 99.37]], '7c9d142bf1b1ede846c059117f422b1c8ea6bb9e.mp4': [[66.0, 80.82]], '7dd1b7a83128fb78f018c557d918b0670989457e.mp4': [[49.0, 58.3]], '8c207ab5a07d12d37dcb666ee8b69c3357bc07fb.flv': [[9.0, 102.0], [107.0, 130.0], [133.0, 138.0], [157.0, 173.0], [177.0, 273.0]], 'bbdbe357f408fb84d5f57c1522a90504f3162d6f.flv': [[32.0, 40.67]], 'bf9df08bb9164d1b971557a9b9f6140096c92b0c.mp4': [[0, 157.0], [173.0, 206.31]], 'caec7bae88f5b5d60a08487e9d9a8cd27251c64e.flv': [[0, 14.0], [88.0, 166.23]], 'f7ba4ea780e11256ed5439e33d169eb242a8a18f.flv': [[32.0, 158.48]], '5b46e9007b0add1d73a11d2f4414efe35b017acb.flv': [[0, 6.0]], 'f8b09ea589093ea7fc20cb530963fe610e90fd12.flv': [[0, 5.0], [287.0, 294.29]], '23254771545e5d278548ba02d25d32add952b2a4.flv': [[0, 8.0], [34.0, 53.68]], '2620a515a196e5d4329f320f478010e578980bee.flv': [[122.0, 174.17000000000002]], '434cbcdf0562eb6c5ccdef59cf3401ed1067112c.flv': [[121.0, 337.87]], '67f1feff7f624cf0b9ac2ebaf49f547a922b4971.flv': [[0, 5.0]], '7a80366e144e759603a9ebecfd91848196e255d2.flv': [[122.0, 336.07]], '7deff9e47e47c98bb341c4355dfff9a82bfba221.flv': [[27.0, 372.9]], '7e4fe3c124a00ce43ce0b5b0aca342d79e3c1ed7.flv': [[0, 5.0]], 'aca39f299bade8a43abc80bac36d598239c63906.flv': [[0, 10.0]], 'b22db6382d74710e88eb1cb50bf3f74bec402491.flv': [[0, 9.0]], 'c70491f4b4d4a8e90561c11ac929edf430e62641.flv': [[0, 8.0]], '2283dfecf92111bfb035888b4810c011ac164876.flv': [[76.0, 89.34]], '60424fb57dae4de20a1672b9019d54dea5179073.flv': [[0, 7.0]], '8a268ef5ad1f250fca37321ba2e9c9224b084dba.flv': [[0, 5.0]], 'f6e296bfd930f585e165246530efa97bc035330f.flv': [[0, 36.0], [54.0, 60.0]], '02ffeecd09331f27f731b2eabc6d1e0dcd91daa4.flv': [[13.0, 27.03]], '2e246b45e7dfba0a7cfb2beb557c40d81dc02c99.flv': [[0, 18.0], [41.0, 75.73]], '375e6b7b7b63d2a84798226ef0cef8f50135e90a.flv': [[0, 12.0], [21.0, 30.0]], '377f81e79938ba062762e74a3b8d4136b5523fa3.flv': [[0, 13.0], [24.0, 88.44]], '3ec7ab68ed6a1690d7c0074bc563d0dccac57726.flv': [[0, 7.0], [20.0, 62.0], [127.0, 184.52]], '3ed4f5c0eb04c94353594e8be1a72bcc657e27c7.flv': [[0, 5.0]], '5f6d3fba8821f4e3358d5ff9dd6d3bc55b03b119.flv': [[0, 6.0], [19.0, 25.19]], '811a34d320785afe0f50b9ff7a67a8b7c22e9891.flv': [[37.0, 46.0]], '925548514617c04feb99967cd1d40d985c467a2f.flv': [[17.0, 72.3]], 'ab3d22a99b1f0fee38cf842f51b1dce60bed631f.flv': [[9.0, 15.05]], 'd31adc1a71b72bb36f32b67cb6d52d4840a322c5.flv': [[13.0, 34.0]], 'de71afa5fe2363589c28021940d2902d8701efdf.flv': [[12.0, 17.0]], 'df839544c199b12b5de023c1ee8511b947f5c999.flv': [[14.0, 19.0]], '2ba013a3f6fa57793c242766e27ec77d001fe03a.flv': [[241.0, 246.6]], '7caa7fcef0e0b17725a0bda8b101d819e6ca2dbd.flv': [[234.0, 271.44]], 'bf582249cfc79d691195a8681961029cc5149a76.flv': [[40.0, 64.0]], 'e8aa839caca7b98a0bf5437db144f23530d39b25.flv': [[0, 5.0]], '06f0dd6a00b38b553844d0550696e5ce1fb448b6.flv': [[0, 21.0], [36.0, 573.52]], '126d3e5b61ad28f847ad1ff6d15315742e780ac6.mp4': [[0, 22.0]], '126f24a39b0ce19993d1fd7bd620fa98a3eda3a7.mp4': [[8.0, 106.96000000000001]], '14c262ea09b4ca66feb7e88cf57e0faaeacc301f.mp4': [[13.0, 19.0]], '1f73466d86f0a92140bd2f89eb95e8c147b47935.flv': [[16.0, 143.35]], '67a70784ba5e4a26b6a3d95900a6b737f92af14c.mp4': [[11.0, 22.52]], '8c2dac44da15031268363aec2fe33a9124a0a505.flv': [[0, 17.0]], '93a48fd66a22cf0189c14a6b8571d72f657b64bc.mp4': [[0, 29.0], [43.0, 64.0]], '957f17421e19ce01afd6f92c895aba72342bd8ea.flv': [[60.0, 2662.32]], 'affa7581a002ca360df8c76b4ddc9f462b797fd5.mp4': [[15.0, 27.36]], 'c22d8160f6950e9748d3c0d1cf26e342d54f281f.mp4': [[16.0, 22.74]], 'd4ff86e0f64fcf4d664f3199e19bd6a38482c3e1.flv': [[0, 5.0], [19.0, 61.1]], 'df0c9e9664cfa6720c94e13eae35ddb7a9b5b927.flv': [[0, 20.0], [34.0, 45.37]], 'e47d10d837cacf72bb23c45339b1cbc307a513be.mp4': [[0, 498.0]], 'e7957b138bcb543c63f100343c91d5731611c1ba.mp4': [[0, 6.0], [20.0, 139.51]], 'ff71ba9adb281236cb8ebeed7aa4f654fdac9444.flv': [[0, 8.0], [12.0, 63.68]], '1c3639a371f22ee3e5f111d4b9d2b045cfa6fb02.flv': [[537.0, 546.29]], '24a6a7d24464d6fe488abb181d89e426e8eeb837.mp4': [[16.0, 99.0]], '28a7b8e86a5bc14c3668248d3a1395af9d58cdcb.mp4': [[0, 82.0], [659.0, 731.39]], '3f81759e6e56e326c0deb3f1ca002e4c68d87eec.flv': [[0, 25.0], [122.0, 233.64]], '458480841d12331e4dea9557886acd2ac957e9cd.mp4': [[4.0, 188.99]], '5f67871d5d377ddc9743ec8fce5f362f09621466.mp4': [[561.0, 570.68]], '6885d63183d393307f6f2206f0dfaccec2d09389.mp4': [[541.0, 705.63]], '77cf367bdc30892faa364bab0006c316a4e86f8e.flv': [[0, 31.0], [43.0, 148.18]], '89b40b8ef5ec589cd8e4ebe5970e6b488f6b31ad.flv': [[561.0, 608.4]], '91b2f55c188b8aa362fd2d2ac6bd08dbe7146bd5.flv': [[226.0, 232.69]], '9d75e3dc43f2ca2384f91cc2bdcf1dd3fe0c3234.flv': [[0, 41.0], [53.0, 73.52]], 'b65af0803a5dcaac7776b7c8648091ca3bec8471.mp4': [[21.0, 181.03]], 'bb1de1926803eea0fa311556b1c991fab3a73396.flv': [[0, 18.0], [152.0, 157.0], [369.0, 374.0], [453.0, 599.9]], 'd7fd4ee52ade46db49e9fbabdf5d964ce0677961.flv': [[570.0, 576.94]], 'd8bc8b695ab831b8f511dd2ab56d7e7ac0cd1a21.flv': [[560.0, 568.38]], 'df9176364d95bda36fced3537e44b838cb548e78.flv': [[574.0, 579.85]], 'ebe5fd08a5d05f2af96f425bc894860bac3f9ba6.flv': [[16.0, 30.26]], 'edae2238f87dce9981af2e1c472096e6694da1a1.flv': [[914.0, 926.56]], 'fc168483b05a1a3534dedd973585642bd0f0edb8.flv': [[0, 8.0], [95.0, 115.67]], '0234aef03d60f071f6fb30f366e79bcc1a05cf14.flv': [[0, 86.0], [202.0, 475.12]], '089bc4a7f6d8747dad92507019b100c5ec09a883.flv': [[78.0, 108.0], [223.0, 230.0], [254.0, 261.0], [326.0, 332.0], [341.0, 353.0], [430.0, 436.0], [452.0, 462.0], [474.0, 484.0], [533.0, 540.0], [562.0, 567.0], [592.0, 598.81]], '3f4c158b7f419867204968bd5e1f70003fefc889.flv': [[48.0, 76.73]], '50267c2376f0e05d38f8d468d4bb403fab5cc454.flv': [[0, 16.0], [44.0, 56.0], [65.0, 73.17]], '54b8c1ae26a16400c15badbae407c809b3ebf03c.flv': [[56.0, 154.0], [231.0, 242.0], [268.0, 278.0], [300.0, 339.0], [367.0, 400.0], [476.0, 482.0], [497.0, 534.0], [567.0, 586.0], [607.0, 620.0], [638.0, 1369.0]], '55dde762dc283ee301065f670b6d7c08c3c32668.flv': [[0, 21.0]], '69bcf906c79504494d9f23192f4801b61b4fd966.flv': [[128.0, 144.31]], '750357acf34899c1c99eb2ae22880c88a776c946.flv': [[39.0, 46.0]], '855f0c045b8b0f8f74a6e8a8d7cfc4aff5fbcc4b.flv': [[0, 18.0], [29.0, 139.07]], '8cd04dbb4576f83ebe1f480d6a33a24c3a5882bd.flv': [[56.0, 66.0]], '8f95e2c9940b1ea46fa23702ca70f4cbefd9e3ef.flv': [[71.0, 86.72]], 'c6d6d37c73f364e3902407e1da07c8e354f66c13.flv': [[95.0, 164.0], [279.0, 286.0], [310.0, 317.0], [382.0, 388.0], [397.0, 409.0], [484.0, 492.0], [508.0, 518.0], [530.0, 540.0], [589.0, 597.0], [618.0, 623.0], [647.0, 1310.04]], 'e2cecbbd4e5683a610152e4b0e83deaa5090384a.flv': [[119.0, 125.97]], 'ea224722e7d3ef9c44d8140a2e435469384204d8.flv': [[0, 13.0], [97.0, 196.74]], 'fca7e9c46b6ec4b8cb53ff17d93bef484a341c5b.flv': [[132.0, 166.6]], '067fb2aa9623905a42a2b0b286de1386e45c5bf8.flv': [[0, 15.0], [34.0, 66.0]], '1e5aec100a5b897342a4be9246995fc16f784e66.flv': [[0, 169.0], [278.0, 504.03]], '7ac8224504f430258be5cf7c3e21bd2611fa7c77.flv': [[87.0, 916.92]], '0421e862855ae81fd14e804d0758ab7917b5335c.flv': [[36.0, 63.0]], '1a9a30abe7dee2eaa52c82490ee117cc399f583e.flv': [[573.0, 581.54]], '200130e0c39f0239a22ad3f873feac30e88134df.flv': [[0, 29.0], [35.0, 72.0], [77.0, 84.0], [92.0, 161.01]], '25b4ccc2b3166b565dde7192ed3b7b43921439dd.flv': [[0, 6.0], [16.0, 44.0], [66.0, 129.0], [137.0, 196.0], [210.0, 255.2]], '25ba77da725f9247cf8a84bb370cf40ac74297d2.flv': [[438.0, 533.52]], '31a250020d2cd699bc5fc42897f7522043713cf5.flv': [[50.0, 71.0], [73.0, 124.0], [128.0, 188.04]], '5aff6ecadb439bb9c16a215188258f9474052fae.flv': [[0, 13.0], [27.0, 37.0], [54.0, 320.12]], '694b83f937e8ae9a390c5ed1004d5ef1f8643ae4.flv': [[250.0, 271.29]], '7033506abf8c15d8f22f26f9ad88dd531cbffb8f.flv': [[0, 38.0], [131.0, 162.62]], '704ed7f6755163d92e4344ede58a30e14ceb5ed4.flv': [[0, 16.0]], '743b4b30bf4fa11e3231dd0cc319016db1cb5b73.flv': [[0, 20.0]], '7759574accbb8bf3b47365c39f31ba8a728481c4.flv': [[0, 24.0], [40.0, 64.0], [231.0, 240.0], [242.0, 257.79]], '8bb9090a95a07edf2fd021d64335bf7b4f428eb2.flv': [[0, 53.0], [176.0, 232.0], [235.0, 537.07]], '952cdd6aa1a8c2f63f9900960b3e18ffb217b97f.flv': [[562.0, 870.97]], '96642d7998cdd226b395153b7d8f3d36655c0176.flv': [[0, 8.0], [238.0, 249.44]], '9f3d3762943c662470d78368a29a067952a97933.flv': [[55.0, 69.0], [73.0, 196.2]], 'aba6851ca7f78f3a83216005bef58766e3dfb26d.flv': [[0, 16.0], [35.0, 53.0], [100.0, 159.0], [195.0, 220.03]], 'bdce7faffa2ce63db64ddab4fa10ac6752079020.flv': [[0, 330.0], [337.0, 719.0]], 'e7831eba03ee7083a9d547fdde6adadaa05f3eeb.flv': [[54.0, 106.0], [109.0, 319.4]], '2a3a855c1a79ccfda28c57c4a2bcdaa85c725787.flv': [[145.0, 153.0]], '481f7052a3be44d9f7d1f6d2f809c0a4f17cb175.mp4': [[0, 5.0]], '75b4b9a9fc4801a2f625297c698e5eef4ec37cfe.flv': [[0, 96.0], [122.0, 270.36]], 'c9cee9c02cc23af3a26ee9548b895addd643974f.flv': [[0, 7.0], [220.0, 228.43]], 'da1854c05d28b4d56f176c1aae5b14d7b9e36536.flv': [[254.0, 291.09000000000003]], '09516f733d69613b8f6085b83d0aacd6f1a7f75d.mp4': [[0, 40.0], [102.0, 110.0], [256.0, 266.26]], '42daf76df2f31f0805f2f3f766bb348bb24feac7.flv': [[0, 12.0]], '55aed88a8ca6116c8f83f3c0220414aa3d460ead.flv': [[0, 39.0], [46.0, 59.0], [123.0, 128.0], [160.0, 192.0], [199.0, 247.57]], '60b45a875979efba30700f8e55728d17f0857212.flv': [[0, 259.0], [299.0, 304.88]], '92e46a8b5dcc5f1ad5db96e626d56234470f3c28.flv': [[0, 111.0], [269.0, 282.04]], '9ad3cc564c4f1b52ce076068e3830a70b9abccbf.flv': [[85.0, 115.0]], 'b61905d41276ccf2af59d4985158f8b1ce1d4990.flv': [[0, 11.0], [60.0, 66.0]], 'b75d15d45b34b0aba85ebc67fdc9fac93e20fd26.flv': [[0, 12.0], [70.0, 92.0], [130.0, 137.68]], 'beb8ec624aae490c6f21a7bc7330da8e839623fb.mp4': [[60.0, 72.07]], 'e862343f349018b392c1a389ff71cbe5eea67666.flv': [[0, 9.0], [70.0, 80.24]], '1e2598afd4d6a8728d6c0076354477db59702a5a.flv': [[12.0, 80.0], [82.0, 94.0], [97.0, 105.0], [114.0, 152.0], [155.0, 181.0], [186.0, 198.0], [206.0, 212.0], [214.0, 231.6]], '4a84b3090139a049a0dfd9cd4ae6db8b446fec99.flv': [[0, 7.0], [23.0, 81.0], [101.0, 203.0], [311.0, 324.97]], '9067be820dde81e11fc69146317995110f408627.flv': [[27.0, 259.0], [292.0, 922.16]], '93cad7675cea2f7c761ad9fc2ee72baee61f38e3.flv': [[0, 51.0], [67.0, 145.0], [157.0, 165.0], [169.0, 239.0], [287.0, 296.96]], '9e94d3404faee3a1e3c78fb33064319511428103.flv': [[42.0, 113.0], [133.0, 141.0], [157.0, 211.0], [250.0, 263.0], [305.0, 315.45]], 'a62ac3f909e921e2ae89e2ed4c272cfadab838a3.mp4': [[11.0, 45.0], [72.0, 77.0]], 'b4d71ae78d81a607ddc2951bfd0a2e3ce46e6d91.flv': [[0, 121.0], [173.0, 202.0], [246.0, 480.31]], 'c3ca62e39b8118a8773999ca5ed4757784032371.flv': [[169.0, 274.06]], 'cbe5dff0d1f7658b8e37d32ade9fd9b27a9f3fc9.flv': [[0, 22.0], [75.0, 93.0], [148.0, 156.0]], 'cf6db37d583044431cc33c4c723988cb6c5edc46.flv': [[116.0, 134.0], [302.0, 311.96]], 'fa89363182761c182136f54fc7650930265a5bb4.flv': [[0, 36.0], [208.0, 298.72]], '0908a93749a07da23df25c1e7e13c4ceaeca1e23.flv': [[0, 11.0], [240.0, 264.72]], '28e2a70b9a97f4f501ec673368cdd9caa1d00831.flv': [[0, 128.0]], 'b97bd2c745407e22c671d36b64a5be29659aa0ba.mp4': [[0, 60.0], [78.0, 146.6]], '2d033b088c2a341267c1329439506c206d6e7a87.flv': [[89.0, 95.03999999999999]], '34d8301dfa17beef7c5a703c03765e328c2c108e.flv': [[0, 10.0]], '48410b965d9e38987584d5ac39e3da0066a541df.flv': [[0, 167.0], [171.0, 199.0], [202.0, 209.0], [217.0, 259.0], [274.0, 279.48]], '524ef63fbe3c17ac7dce07f21e19c22841269580.flv': [[0, 14.0], [28.0, 93.43]], '5ceebbdf8bac4c15ff4657c73feee58dedd67c78.flv': [[157.0, 356.56]], '8b183ce1a33c5ab3eec1b3dc91e29b98f52bd3c1.flv': [[0, 12.0], [24.0, 30.66]], '8eced8631e728d892ecce8b2d916e8f12c03f63b.flv': [[0, 133.0], [146.0, 160.0], [187.0, 317.04]], '90b2f3863d924c7aef594b86c1d3a10092ff141e.mp4': [[0, 92.0], [106.0, 166.0], [186.0, 286.82]], 'c1ffd1a86d2b2451edda0bb4b25c914350aa9826.mp4': [[0, 407.0], [556.0, 655.47]], 'ec6d9578723211eebde91393c69ba9f84507431c.mp4': [[138.0, 150.72]], '6280e17346f8c34c231180e8d659f804d111fa6b.mp4': [[0, 11.0]], '7fdf8f5e4fb91b1af5b016242ad70fd0d74abb42.flv': [[7.0, 12.0], [36.0, 53.0], [304.0, 351.48]], '9f7862bcee961fdec039a3f287ad7c8351cfbed9.flv': [[0, 5.0], [190.0, 225.72]], '0ab11b52561e9255423b01f29f7904a6dcadd87b.flv': [[45.0, 53.44]], '0c06d64856ceae3c5146fd0cae9ac6fc5107083e.flv': [[9.0, 17.15]], '0dbcff0b6d671e1579ad468eed54d84f7e9b7289.mp4': [[0, 5.0], [11.0, 16.0], [18.0, 35.0], [37.0, 58.0], [77.0, 83.76]], '13f06a567cbee6f40952cc13817a7774caa72903.flv': [[46.0, 60.96]], '1e04e15f77363ebb7cdfb8811cd3d5d6d8b18305.flv': [[0, 30.0], [39.0, 70.7]], '2d38fff9674d85ddccdd873df98475153c20aedd.flv': [[0, 8.0]], '5a6a49b7660b858476a69819cdf15a13ecf13c36.mp4': [[23.0, 39.0]], 'afc75e8c02a5ecba44739b0623befa16afa1d896.flv': [[0, 9.0], [26.0, 33.43]], 'b91aa7020c5dd0a6518d11f745b275363f854bce.flv': [[0, 13.0]], 'cb593efe5b194fe67a8e5ffe33b35cca954cdcd4.flv': [[0, 35.0], [43.0, 130.0]], 'cc3b8791039b9e7f664260d76f8ca6cc48004823.flv': [[9.0, 36.0], [52.0, 75.94]]}\n"
     ]
    }
   ],
   "execution_count": 14
  },
  {
   "metadata": {
    "ExecuteTime": {
     "end_time": "2024-11-25T17:41:04.106603Z",
     "start_time": "2024-11-25T17:41:04.101633Z"
    }
   },
   "cell_type": "code",
   "source": [
    "# Helper function to split a gap into subparts of max length `max_length`\n",
    "def split_gap(gap, max_length=15):\n",
    "    start, end = gap\n",
    "    duration = end - start\n",
    "    subparts = []\n",
    "\n",
    "    # If the gap is larger than the max length, split it\n",
    "    while duration > max_length:\n",
    "        subparts.append([start, start + max_length])\n",
    "        start += max_length\n",
    "        duration -= max_length\n",
    "\n",
    "    # Add any remaining part that is smaller than max_length\n",
    "    if duration > 0:\n",
    "        subparts.append([start, end])\n",
    "\n",
    "    return subparts\n",
    "\n",
    "# Step 4: Update gaps splitting larger gaps into subparts of 15 seconds\n",
    "final_non_overlapping_segments = {}\n",
    "for video, gaps in non_overlapping_segments.items():\n",
    "    subparts = []\n",
    "    for gap in gaps:\n",
    "        subparts.extend(split_gap(gap, max_length=15))\n",
    "    final_non_overlapping_segments[video] = subparts\n",
    "\n",
    "# Output final non-overlapping segments split into subparts of 15 seconds\n",
    "print(final_non_overlapping_segments)\n"
   ],
   "id": "ac7c4263f83e7609",
   "outputs": [
    {
     "name": "stdout",
     "output_type": "stream",
     "text": [
      "{'37b31d607d31a47d347b15dae2b8aa63e57861eb.flv': [[0, 15], [15, 30], [30, 33.0], [35.0, 41.0], [45.0, 60.0], [60.0, 72.4]], '458db5aa227ae49ceb8bc1bed5f9cf5b4bed63f2.flv': [[0, 5.0], [12.0, 27.0], [27.0, 31.08]], '5c5714c0a56fd2a96f99db2f59b0d03659d77cdf.flv': [[0, 6.0], [10.0, 25.0], [25.0, 25.39]], '6d1a89c83d554fc6a5e39fcadb172a79baf140fd.mp4': [[0, 7.0], [12.0, 27.0], [27.0, 27.56]], '8084216caff6082b4e71ae4bbfe556f28a68485f.flv': [[0, 15], [15, 30], [30, 45], [45, 60], [60, 75], [75, 90], [90, 105], [105, 120], [120, 135], [135, 147.0], [150.0, 165.0], [165.0, 180.0], [180.0, 195.0], [195.0, 210.0], [210.0, 225.0], [225.0, 237.0], [241.0, 256.0], [256.0, 262.76]], 'bb604f57a18455867544e79c2e32bf5583c358d4.flv': [[0, 15], [15, 30], [30, 45], [45, 60], [60, 75], [75, 90], [90, 105], [105, 120], [120, 135], [135, 150], [150, 165], [165, 180], [180, 195], [195, 210], [210, 225], [225, 240], [240, 255], [255, 270], [270, 285], [285, 300], [300, 315], [315, 322.0], [329.0, 344.0], [344.0, 359.0], [359.0, 374.0], [374.0, 389.0], [389.0, 404.0], [404.0, 419.0], [419.0, 423.22]], '46f2e964ae16f5c27fad70d6849c76616fad7502.flv': [[0, 15], [15, 28.0], [161.0, 170.68]], '6171d3d87ae377e497199554033bca96a263277b.mp4': [[0, 15], [15, 30], [30, 45], [45, 60], [60, 75], [75, 90], [90, 105], [105, 120], [120, 131.73]], '0056649006c7a250cb4174f1e924768ba2c9d599.flv': [[0, 15], [15, 21.0], [49.0, 54.0], [58.0, 72.03]], '410ba1c253fb8d4a8ba6e59aa9e39d39cb3b245b.flv': [[0, 15], [15, 18.0]], '682329105c2fa291ceb13eebfe0544fb9a115c0b.flv': [[0, 7.0]], 'ab8bd55b3fefca37c7dc57e973a7cea1ae3555ad.flv': [[0, 7.0]], 'c1e67ad94259a2015304ee0b42323dd48f820309.flv': [[0, 7.0]], 'e9e65688a633e99bd3cc6e4078a2ef0157153cd5.flv': [[0, 7.0]], '098df9c477ecf6c4f3818b198490b0258163015d.flv': [[172.0, 187.0], [187.0, 202.0], [202.0, 217.0], [217.0, 231.04]], '0e3aee10650afd14d9a2d8b1440924c7968dd0ee.flv': [[0, 14.0]], '225eceebd0f24728bd1740f642de6705d43a4da0.flv': [[0, 14.0]], '2b1a3faf58c38efc393635e3cc007946914516d0.flv': [[0, 8.0], [11.0, 17.0], [35.0, 50.0], [50.0, 63.8]], '56b8c2103555cf056db670c7e952c1fa7418e73d.flv': [[172.0, 187.0], [187.0, 202.0], [202.0, 217.0], [217.0, 232.0], [232.0, 237.54]], '5b1b41404d1bad5d231bd8c7fdbae109e0ea1fc2.flv': [[0, 15], [15, 20.0]], 'c7d5eb4355e2ce9c90bf681e28ca740b1e7c62ca.flv': [[0, 15], [15, 29.0], [38.0, 53.0], [53.0, 68.0], [68.0, 83.0], [83.0, 98.0], [98.0, 113.0], [113.0, 128.0], [128.0, 143.0], [143.0, 158.0], [158.0, 173.0], [173.0, 179.78]], '09b682c899b0727e9990d8e347cdce3df7c5550e.flv': [[0, 15.0], [50.0, 65.0], [65.0, 80.0], [80.0, 83.78]], '54c560a6b270647b28ea2746853c937885e2718b.flv': [[143.0, 153.67000000000002]], '874a7d3cbfc17a46040b2d657667520bde309ca4.flv': [[0, 15.0], [21.0, 30.0]], 'd2015b438b70f022967713d6f977ebc67a16839e.flv': [[0, 15], [15, 30], [30, 45], [45, 60], [60, 75], [75, 85.0], [96.0, 111.0], [111.0, 126.0], [126.0, 141.0], [141.0, 156.0], [156.0, 171.0], [171.0, 174.0], [188.0, 193.0], [230.0, 245.0], [245.0, 260.0], [260.0, 275.0], [275.0, 278.0], [286.0, 301.0], [301.0, 316.0], [316.0, 317.0]], '127dab55025984673f65d3a23b1fea99ecc79b15.mp4': [[0, 15], [15, 30], [30, 45], [45, 60], [60, 75], [75, 79.0], [109.0, 124.0], [124.0, 139.0], [139.0, 154.0], [154.0, 169.0], [169.0, 184.0], [184.0, 199.0], [199.0, 214.0], [214.0, 229.0], [229.0, 244.0], [244.0, 259.0], [259.0, 274.0], [274.0, 289.0], [289.0, 300.85]], '7b2158aad4ea2e6c8f149bb869801b96734c1b1c.flv': [[1.0, 6.0], [57.0, 72.0], [72.0, 87.0], [87.0, 99.37]], '7c9d142bf1b1ede846c059117f422b1c8ea6bb9e.mp4': [[66.0, 80.82]], '7dd1b7a83128fb78f018c557d918b0670989457e.mp4': [[49.0, 58.3]], '8c207ab5a07d12d37dcb666ee8b69c3357bc07fb.flv': [[9.0, 24.0], [24.0, 39.0], [39.0, 54.0], [54.0, 69.0], [69.0, 84.0], [84.0, 99.0], [99.0, 102.0], [107.0, 122.0], [122.0, 130.0], [133.0, 138.0], [157.0, 172.0], [172.0, 173.0], [177.0, 192.0], [192.0, 207.0], [207.0, 222.0], [222.0, 237.0], [237.0, 252.0], [252.0, 267.0], [267.0, 273.0]], 'bbdbe357f408fb84d5f57c1522a90504f3162d6f.flv': [[32.0, 40.67]], 'bf9df08bb9164d1b971557a9b9f6140096c92b0c.mp4': [[0, 15], [15, 30], [30, 45], [45, 60], [60, 75], [75, 90], [90, 105], [105, 120], [120, 135], [135, 150], [150, 157.0], [173.0, 188.0], [188.0, 203.0], [203.0, 206.31]], 'caec7bae88f5b5d60a08487e9d9a8cd27251c64e.flv': [[0, 14.0], [88.0, 103.0], [103.0, 118.0], [118.0, 133.0], [133.0, 148.0], [148.0, 163.0], [163.0, 166.23]], 'f7ba4ea780e11256ed5439e33d169eb242a8a18f.flv': [[32.0, 47.0], [47.0, 62.0], [62.0, 77.0], [77.0, 92.0], [92.0, 107.0], [107.0, 122.0], [122.0, 137.0], [137.0, 152.0], [152.0, 158.48]], '5b46e9007b0add1d73a11d2f4414efe35b017acb.flv': [[0, 6.0]], 'f8b09ea589093ea7fc20cb530963fe610e90fd12.flv': [[0, 5.0], [287.0, 294.29]], '23254771545e5d278548ba02d25d32add952b2a4.flv': [[0, 8.0], [34.0, 49.0], [49.0, 53.68]], '2620a515a196e5d4329f320f478010e578980bee.flv': [[122.0, 137.0], [137.0, 152.0], [152.0, 167.0], [167.0, 174.17000000000002]], '434cbcdf0562eb6c5ccdef59cf3401ed1067112c.flv': [[121.0, 136.0], [136.0, 151.0], [151.0, 166.0], [166.0, 181.0], [181.0, 196.0], [196.0, 211.0], [211.0, 226.0], [226.0, 241.0], [241.0, 256.0], [256.0, 271.0], [271.0, 286.0], [286.0, 301.0], [301.0, 316.0], [316.0, 331.0], [331.0, 337.87]], '67f1feff7f624cf0b9ac2ebaf49f547a922b4971.flv': [[0, 5.0]], '7a80366e144e759603a9ebecfd91848196e255d2.flv': [[122.0, 137.0], [137.0, 152.0], [152.0, 167.0], [167.0, 182.0], [182.0, 197.0], [197.0, 212.0], [212.0, 227.0], [227.0, 242.0], [242.0, 257.0], [257.0, 272.0], [272.0, 287.0], [287.0, 302.0], [302.0, 317.0], [317.0, 332.0], [332.0, 336.07]], '7deff9e47e47c98bb341c4355dfff9a82bfba221.flv': [[27.0, 42.0], [42.0, 57.0], [57.0, 72.0], [72.0, 87.0], [87.0, 102.0], [102.0, 117.0], [117.0, 132.0], [132.0, 147.0], [147.0, 162.0], [162.0, 177.0], [177.0, 192.0], [192.0, 207.0], [207.0, 222.0], [222.0, 237.0], [237.0, 252.0], [252.0, 267.0], [267.0, 282.0], [282.0, 297.0], [297.0, 312.0], [312.0, 327.0], [327.0, 342.0], [342.0, 357.0], [357.0, 372.0], [372.0, 372.9]], '7e4fe3c124a00ce43ce0b5b0aca342d79e3c1ed7.flv': [[0, 5.0]], 'aca39f299bade8a43abc80bac36d598239c63906.flv': [[0, 10.0]], 'b22db6382d74710e88eb1cb50bf3f74bec402491.flv': [[0, 9.0]], 'c70491f4b4d4a8e90561c11ac929edf430e62641.flv': [[0, 8.0]], '2283dfecf92111bfb035888b4810c011ac164876.flv': [[76.0, 89.34]], '60424fb57dae4de20a1672b9019d54dea5179073.flv': [[0, 7.0]], '8a268ef5ad1f250fca37321ba2e9c9224b084dba.flv': [[0, 5.0]], 'f6e296bfd930f585e165246530efa97bc035330f.flv': [[0, 15], [15, 30], [30, 36.0], [54.0, 60.0]], '02ffeecd09331f27f731b2eabc6d1e0dcd91daa4.flv': [[13.0, 27.03]], '2e246b45e7dfba0a7cfb2beb557c40d81dc02c99.flv': [[0, 15], [15, 18.0], [41.0, 56.0], [56.0, 71.0], [71.0, 75.73]], '375e6b7b7b63d2a84798226ef0cef8f50135e90a.flv': [[0, 12.0], [21.0, 30.0]], '377f81e79938ba062762e74a3b8d4136b5523fa3.flv': [[0, 13.0], [24.0, 39.0], [39.0, 54.0], [54.0, 69.0], [69.0, 84.0], [84.0, 88.44]], '3ec7ab68ed6a1690d7c0074bc563d0dccac57726.flv': [[0, 7.0], [20.0, 35.0], [35.0, 50.0], [50.0, 62.0], [127.0, 142.0], [142.0, 157.0], [157.0, 172.0], [172.0, 184.52]], '3ed4f5c0eb04c94353594e8be1a72bcc657e27c7.flv': [[0, 5.0]], '5f6d3fba8821f4e3358d5ff9dd6d3bc55b03b119.flv': [[0, 6.0], [19.0, 25.19]], '811a34d320785afe0f50b9ff7a67a8b7c22e9891.flv': [[37.0, 46.0]], '925548514617c04feb99967cd1d40d985c467a2f.flv': [[17.0, 32.0], [32.0, 47.0], [47.0, 62.0], [62.0, 72.3]], 'ab3d22a99b1f0fee38cf842f51b1dce60bed631f.flv': [[9.0, 15.05]], 'd31adc1a71b72bb36f32b67cb6d52d4840a322c5.flv': [[13.0, 28.0], [28.0, 34.0]], 'de71afa5fe2363589c28021940d2902d8701efdf.flv': [[12.0, 17.0]], 'df839544c199b12b5de023c1ee8511b947f5c999.flv': [[14.0, 19.0]], '2ba013a3f6fa57793c242766e27ec77d001fe03a.flv': [[241.0, 246.6]], '7caa7fcef0e0b17725a0bda8b101d819e6ca2dbd.flv': [[234.0, 249.0], [249.0, 264.0], [264.0, 271.44]], 'bf582249cfc79d691195a8681961029cc5149a76.flv': [[40.0, 55.0], [55.0, 64.0]], 'e8aa839caca7b98a0bf5437db144f23530d39b25.flv': [[0, 5.0]], '06f0dd6a00b38b553844d0550696e5ce1fb448b6.flv': [[0, 15], [15, 21.0], [36.0, 51.0], [51.0, 66.0], [66.0, 81.0], [81.0, 96.0], [96.0, 111.0], [111.0, 126.0], [126.0, 141.0], [141.0, 156.0], [156.0, 171.0], [171.0, 186.0], [186.0, 201.0], [201.0, 216.0], [216.0, 231.0], [231.0, 246.0], [246.0, 261.0], [261.0, 276.0], [276.0, 291.0], [291.0, 306.0], [306.0, 321.0], [321.0, 336.0], [336.0, 351.0], [351.0, 366.0], [366.0, 381.0], [381.0, 396.0], [396.0, 411.0], [411.0, 426.0], [426.0, 441.0], [441.0, 456.0], [456.0, 471.0], [471.0, 486.0], [486.0, 501.0], [501.0, 516.0], [516.0, 531.0], [531.0, 546.0], [546.0, 561.0], [561.0, 573.52]], '126d3e5b61ad28f847ad1ff6d15315742e780ac6.mp4': [[0, 15], [15, 22.0]], '126f24a39b0ce19993d1fd7bd620fa98a3eda3a7.mp4': [[8.0, 23.0], [23.0, 38.0], [38.0, 53.0], [53.0, 68.0], [68.0, 83.0], [83.0, 98.0], [98.0, 106.96000000000001]], '14c262ea09b4ca66feb7e88cf57e0faaeacc301f.mp4': [[13.0, 19.0]], '1f73466d86f0a92140bd2f89eb95e8c147b47935.flv': [[16.0, 31.0], [31.0, 46.0], [46.0, 61.0], [61.0, 76.0], [76.0, 91.0], [91.0, 106.0], [106.0, 121.0], [121.0, 136.0], [136.0, 143.35]], '67a70784ba5e4a26b6a3d95900a6b737f92af14c.mp4': [[11.0, 22.52]], '8c2dac44da15031268363aec2fe33a9124a0a505.flv': [[0, 15], [15, 17.0]], '93a48fd66a22cf0189c14a6b8571d72f657b64bc.mp4': [[0, 15], [15, 29.0], [43.0, 58.0], [58.0, 64.0]], '957f17421e19ce01afd6f92c895aba72342bd8ea.flv': [[60.0, 75.0], [75.0, 90.0], [90.0, 105.0], [105.0, 120.0], [120.0, 135.0], [135.0, 150.0], [150.0, 165.0], [165.0, 180.0], [180.0, 195.0], [195.0, 210.0], [210.0, 225.0], [225.0, 240.0], [240.0, 255.0], [255.0, 270.0], [270.0, 285.0], [285.0, 300.0], [300.0, 315.0], [315.0, 330.0], [330.0, 345.0], [345.0, 360.0], [360.0, 375.0], [375.0, 390.0], [390.0, 405.0], [405.0, 420.0], [420.0, 435.0], [435.0, 450.0], [450.0, 465.0], [465.0, 480.0], [480.0, 495.0], [495.0, 510.0], [510.0, 525.0], [525.0, 540.0], [540.0, 555.0], [555.0, 570.0], [570.0, 585.0], [585.0, 600.0], [600.0, 615.0], [615.0, 630.0], [630.0, 645.0], [645.0, 660.0], [660.0, 675.0], [675.0, 690.0], [690.0, 705.0], [705.0, 720.0], [720.0, 735.0], [735.0, 750.0], [750.0, 765.0], [765.0, 780.0], [780.0, 795.0], [795.0, 810.0], [810.0, 825.0], [825.0, 840.0], [840.0, 855.0], [855.0, 870.0], [870.0, 885.0], [885.0, 900.0], [900.0, 915.0], [915.0, 930.0], [930.0, 945.0], [945.0, 960.0], [960.0, 975.0], [975.0, 990.0], [990.0, 1005.0], [1005.0, 1020.0], [1020.0, 1035.0], [1035.0, 1050.0], [1050.0, 1065.0], [1065.0, 1080.0], [1080.0, 1095.0], [1095.0, 1110.0], [1110.0, 1125.0], [1125.0, 1140.0], [1140.0, 1155.0], [1155.0, 1170.0], [1170.0, 1185.0], [1185.0, 1200.0], [1200.0, 1215.0], [1215.0, 1230.0], [1230.0, 1245.0], [1245.0, 1260.0], [1260.0, 1275.0], [1275.0, 1290.0], [1290.0, 1305.0], [1305.0, 1320.0], [1320.0, 1335.0], [1335.0, 1350.0], [1350.0, 1365.0], [1365.0, 1380.0], [1380.0, 1395.0], [1395.0, 1410.0], [1410.0, 1425.0], [1425.0, 1440.0], [1440.0, 1455.0], [1455.0, 1470.0], [1470.0, 1485.0], [1485.0, 1500.0], [1500.0, 1515.0], [1515.0, 1530.0], [1530.0, 1545.0], [1545.0, 1560.0], [1560.0, 1575.0], [1575.0, 1590.0], [1590.0, 1605.0], [1605.0, 1620.0], [1620.0, 1635.0], [1635.0, 1650.0], [1650.0, 1665.0], [1665.0, 1680.0], [1680.0, 1695.0], [1695.0, 1710.0], [1710.0, 1725.0], [1725.0, 1740.0], [1740.0, 1755.0], [1755.0, 1770.0], [1770.0, 1785.0], [1785.0, 1800.0], [1800.0, 1815.0], [1815.0, 1830.0], [1830.0, 1845.0], [1845.0, 1860.0], [1860.0, 1875.0], [1875.0, 1890.0], [1890.0, 1905.0], [1905.0, 1920.0], [1920.0, 1935.0], [1935.0, 1950.0], [1950.0, 1965.0], [1965.0, 1980.0], [1980.0, 1995.0], [1995.0, 2010.0], [2010.0, 2025.0], [2025.0, 2040.0], [2040.0, 2055.0], [2055.0, 2070.0], [2070.0, 2085.0], [2085.0, 2100.0], [2100.0, 2115.0], [2115.0, 2130.0], [2130.0, 2145.0], [2145.0, 2160.0], [2160.0, 2175.0], [2175.0, 2190.0], [2190.0, 2205.0], [2205.0, 2220.0], [2220.0, 2235.0], [2235.0, 2250.0], [2250.0, 2265.0], [2265.0, 2280.0], [2280.0, 2295.0], [2295.0, 2310.0], [2310.0, 2325.0], [2325.0, 2340.0], [2340.0, 2355.0], [2355.0, 2370.0], [2370.0, 2385.0], [2385.0, 2400.0], [2400.0, 2415.0], [2415.0, 2430.0], [2430.0, 2445.0], [2445.0, 2460.0], [2460.0, 2475.0], [2475.0, 2490.0], [2490.0, 2505.0], [2505.0, 2520.0], [2520.0, 2535.0], [2535.0, 2550.0], [2550.0, 2565.0], [2565.0, 2580.0], [2580.0, 2595.0], [2595.0, 2610.0], [2610.0, 2625.0], [2625.0, 2640.0], [2640.0, 2655.0], [2655.0, 2662.32]], 'affa7581a002ca360df8c76b4ddc9f462b797fd5.mp4': [[15.0, 27.36]], 'c22d8160f6950e9748d3c0d1cf26e342d54f281f.mp4': [[16.0, 22.74]], 'd4ff86e0f64fcf4d664f3199e19bd6a38482c3e1.flv': [[0, 5.0], [19.0, 34.0], [34.0, 49.0], [49.0, 61.1]], 'df0c9e9664cfa6720c94e13eae35ddb7a9b5b927.flv': [[0, 15], [15, 20.0], [34.0, 45.37]], 'e47d10d837cacf72bb23c45339b1cbc307a513be.mp4': [[0, 15], [15, 30], [30, 45], [45, 60], [60, 75], [75, 90], [90, 105], [105, 120], [120, 135], [135, 150], [150, 165], [165, 180], [180, 195], [195, 210], [210, 225], [225, 240], [240, 255], [255, 270], [270, 285], [285, 300], [300, 315], [315, 330], [330, 345], [345, 360], [360, 375], [375, 390], [390, 405], [405, 420], [420, 435], [435, 450], [450, 465], [465, 480], [480, 495], [495, 498.0]], 'e7957b138bcb543c63f100343c91d5731611c1ba.mp4': [[0, 6.0], [20.0, 35.0], [35.0, 50.0], [50.0, 65.0], [65.0, 80.0], [80.0, 95.0], [95.0, 110.0], [110.0, 125.0], [125.0, 139.51]], 'ff71ba9adb281236cb8ebeed7aa4f654fdac9444.flv': [[0, 8.0], [12.0, 27.0], [27.0, 42.0], [42.0, 57.0], [57.0, 63.68]], '1c3639a371f22ee3e5f111d4b9d2b045cfa6fb02.flv': [[537.0, 546.29]], '24a6a7d24464d6fe488abb181d89e426e8eeb837.mp4': [[16.0, 31.0], [31.0, 46.0], [46.0, 61.0], [61.0, 76.0], [76.0, 91.0], [91.0, 99.0]], '28a7b8e86a5bc14c3668248d3a1395af9d58cdcb.mp4': [[0, 15], [15, 30], [30, 45], [45, 60], [60, 75], [75, 82.0], [659.0, 674.0], [674.0, 689.0], [689.0, 704.0], [704.0, 719.0], [719.0, 731.39]], '3f81759e6e56e326c0deb3f1ca002e4c68d87eec.flv': [[0, 15], [15, 25.0], [122.0, 137.0], [137.0, 152.0], [152.0, 167.0], [167.0, 182.0], [182.0, 197.0], [197.0, 212.0], [212.0, 227.0], [227.0, 233.64]], '458480841d12331e4dea9557886acd2ac957e9cd.mp4': [[4.0, 19.0], [19.0, 34.0], [34.0, 49.0], [49.0, 64.0], [64.0, 79.0], [79.0, 94.0], [94.0, 109.0], [109.0, 124.0], [124.0, 139.0], [139.0, 154.0], [154.0, 169.0], [169.0, 184.0], [184.0, 188.99]], '5f67871d5d377ddc9743ec8fce5f362f09621466.mp4': [[561.0, 570.68]], '6885d63183d393307f6f2206f0dfaccec2d09389.mp4': [[541.0, 556.0], [556.0, 571.0], [571.0, 586.0], [586.0, 601.0], [601.0, 616.0], [616.0, 631.0], [631.0, 646.0], [646.0, 661.0], [661.0, 676.0], [676.0, 691.0], [691.0, 705.63]], '77cf367bdc30892faa364bab0006c316a4e86f8e.flv': [[0, 15], [15, 30], [30, 31.0], [43.0, 58.0], [58.0, 73.0], [73.0, 88.0], [88.0, 103.0], [103.0, 118.0], [118.0, 133.0], [133.0, 148.0], [148.0, 148.18]], '89b40b8ef5ec589cd8e4ebe5970e6b488f6b31ad.flv': [[561.0, 576.0], [576.0, 591.0], [591.0, 606.0], [606.0, 608.4]], '91b2f55c188b8aa362fd2d2ac6bd08dbe7146bd5.flv': [[226.0, 232.69]], '9d75e3dc43f2ca2384f91cc2bdcf1dd3fe0c3234.flv': [[0, 15], [15, 30], [30, 41.0], [53.0, 68.0], [68.0, 73.52]], 'b65af0803a5dcaac7776b7c8648091ca3bec8471.mp4': [[21.0, 36.0], [36.0, 51.0], [51.0, 66.0], [66.0, 81.0], [81.0, 96.0], [96.0, 111.0], [111.0, 126.0], [126.0, 141.0], [141.0, 156.0], [156.0, 171.0], [171.0, 181.03]], 'bb1de1926803eea0fa311556b1c991fab3a73396.flv': [[0, 15], [15, 18.0], [152.0, 157.0], [369.0, 374.0], [453.0, 468.0], [468.0, 483.0], [483.0, 498.0], [498.0, 513.0], [513.0, 528.0], [528.0, 543.0], [543.0, 558.0], [558.0, 573.0], [573.0, 588.0], [588.0, 599.9]], 'd7fd4ee52ade46db49e9fbabdf5d964ce0677961.flv': [[570.0, 576.94]], 'd8bc8b695ab831b8f511dd2ab56d7e7ac0cd1a21.flv': [[560.0, 568.38]], 'df9176364d95bda36fced3537e44b838cb548e78.flv': [[574.0, 579.85]], 'ebe5fd08a5d05f2af96f425bc894860bac3f9ba6.flv': [[16.0, 30.26]], 'edae2238f87dce9981af2e1c472096e6694da1a1.flv': [[914.0, 926.56]], 'fc168483b05a1a3534dedd973585642bd0f0edb8.flv': [[0, 8.0], [95.0, 110.0], [110.0, 115.67]], '0234aef03d60f071f6fb30f366e79bcc1a05cf14.flv': [[0, 15], [15, 30], [30, 45], [45, 60], [60, 75], [75, 86.0], [202.0, 217.0], [217.0, 232.0], [232.0, 247.0], [247.0, 262.0], [262.0, 277.0], [277.0, 292.0], [292.0, 307.0], [307.0, 322.0], [322.0, 337.0], [337.0, 352.0], [352.0, 367.0], [367.0, 382.0], [382.0, 397.0], [397.0, 412.0], [412.0, 427.0], [427.0, 442.0], [442.0, 457.0], [457.0, 472.0], [472.0, 475.12]], '089bc4a7f6d8747dad92507019b100c5ec09a883.flv': [[78.0, 93.0], [93.0, 108.0], [223.0, 230.0], [254.0, 261.0], [326.0, 332.0], [341.0, 353.0], [430.0, 436.0], [452.0, 462.0], [474.0, 484.0], [533.0, 540.0], [562.0, 567.0], [592.0, 598.81]], '3f4c158b7f419867204968bd5e1f70003fefc889.flv': [[48.0, 63.0], [63.0, 76.73]], '50267c2376f0e05d38f8d468d4bb403fab5cc454.flv': [[0, 15], [15, 16.0], [44.0, 56.0], [65.0, 73.17]], '54b8c1ae26a16400c15badbae407c809b3ebf03c.flv': [[56.0, 71.0], [71.0, 86.0], [86.0, 101.0], [101.0, 116.0], [116.0, 131.0], [131.0, 146.0], [146.0, 154.0], [231.0, 242.0], [268.0, 278.0], [300.0, 315.0], [315.0, 330.0], [330.0, 339.0], [367.0, 382.0], [382.0, 397.0], [397.0, 400.0], [476.0, 482.0], [497.0, 512.0], [512.0, 527.0], [527.0, 534.0], [567.0, 582.0], [582.0, 586.0], [607.0, 620.0], [638.0, 653.0], [653.0, 668.0], [668.0, 683.0], [683.0, 698.0], [698.0, 713.0], [713.0, 728.0], [728.0, 743.0], [743.0, 758.0], [758.0, 773.0], [773.0, 788.0], [788.0, 803.0], [803.0, 818.0], [818.0, 833.0], [833.0, 848.0], [848.0, 863.0], [863.0, 878.0], [878.0, 893.0], [893.0, 908.0], [908.0, 923.0], [923.0, 938.0], [938.0, 953.0], [953.0, 968.0], [968.0, 983.0], [983.0, 998.0], [998.0, 1013.0], [1013.0, 1028.0], [1028.0, 1043.0], [1043.0, 1058.0], [1058.0, 1073.0], [1073.0, 1088.0], [1088.0, 1103.0], [1103.0, 1118.0], [1118.0, 1133.0], [1133.0, 1148.0], [1148.0, 1163.0], [1163.0, 1178.0], [1178.0, 1193.0], [1193.0, 1208.0], [1208.0, 1223.0], [1223.0, 1238.0], [1238.0, 1253.0], [1253.0, 1268.0], [1268.0, 1283.0], [1283.0, 1298.0], [1298.0, 1313.0], [1313.0, 1328.0], [1328.0, 1343.0], [1343.0, 1358.0], [1358.0, 1369.0]], '55dde762dc283ee301065f670b6d7c08c3c32668.flv': [[0, 15], [15, 21.0]], '69bcf906c79504494d9f23192f4801b61b4fd966.flv': [[128.0, 143.0], [143.0, 144.31]], '750357acf34899c1c99eb2ae22880c88a776c946.flv': [[39.0, 46.0]], '855f0c045b8b0f8f74a6e8a8d7cfc4aff5fbcc4b.flv': [[0, 15], [15, 18.0], [29.0, 44.0], [44.0, 59.0], [59.0, 74.0], [74.0, 89.0], [89.0, 104.0], [104.0, 119.0], [119.0, 134.0], [134.0, 139.07]], '8cd04dbb4576f83ebe1f480d6a33a24c3a5882bd.flv': [[56.0, 66.0]], '8f95e2c9940b1ea46fa23702ca70f4cbefd9e3ef.flv': [[71.0, 86.0], [86.0, 86.72]], 'c6d6d37c73f364e3902407e1da07c8e354f66c13.flv': [[95.0, 110.0], [110.0, 125.0], [125.0, 140.0], [140.0, 155.0], [155.0, 164.0], [279.0, 286.0], [310.0, 317.0], [382.0, 388.0], [397.0, 409.0], [484.0, 492.0], [508.0, 518.0], [530.0, 540.0], [589.0, 597.0], [618.0, 623.0], [647.0, 662.0], [662.0, 677.0], [677.0, 692.0], [692.0, 707.0], [707.0, 722.0], [722.0, 737.0], [737.0, 752.0], [752.0, 767.0], [767.0, 782.0], [782.0, 797.0], [797.0, 812.0], [812.0, 827.0], [827.0, 842.0], [842.0, 857.0], [857.0, 872.0], [872.0, 887.0], [887.0, 902.0], [902.0, 917.0], [917.0, 932.0], [932.0, 947.0], [947.0, 962.0], [962.0, 977.0], [977.0, 992.0], [992.0, 1007.0], [1007.0, 1022.0], [1022.0, 1037.0], [1037.0, 1052.0], [1052.0, 1067.0], [1067.0, 1082.0], [1082.0, 1097.0], [1097.0, 1112.0], [1112.0, 1127.0], [1127.0, 1142.0], [1142.0, 1157.0], [1157.0, 1172.0], [1172.0, 1187.0], [1187.0, 1202.0], [1202.0, 1217.0], [1217.0, 1232.0], [1232.0, 1247.0], [1247.0, 1262.0], [1262.0, 1277.0], [1277.0, 1292.0], [1292.0, 1307.0], [1307.0, 1310.04]], 'e2cecbbd4e5683a610152e4b0e83deaa5090384a.flv': [[119.0, 125.97]], 'ea224722e7d3ef9c44d8140a2e435469384204d8.flv': [[0, 13.0], [97.0, 112.0], [112.0, 127.0], [127.0, 142.0], [142.0, 157.0], [157.0, 172.0], [172.0, 187.0], [187.0, 196.74]], 'fca7e9c46b6ec4b8cb53ff17d93bef484a341c5b.flv': [[132.0, 147.0], [147.0, 162.0], [162.0, 166.6]], '067fb2aa9623905a42a2b0b286de1386e45c5bf8.flv': [[0, 15.0], [34.0, 49.0], [49.0, 64.0], [64.0, 66.0]], '1e5aec100a5b897342a4be9246995fc16f784e66.flv': [[0, 15], [15, 30], [30, 45], [45, 60], [60, 75], [75, 90], [90, 105], [105, 120], [120, 135], [135, 150], [150, 165], [165, 169.0], [278.0, 293.0], [293.0, 308.0], [308.0, 323.0], [323.0, 338.0], [338.0, 353.0], [353.0, 368.0], [368.0, 383.0], [383.0, 398.0], [398.0, 413.0], [413.0, 428.0], [428.0, 443.0], [443.0, 458.0], [458.0, 473.0], [473.0, 488.0], [488.0, 503.0], [503.0, 504.03]], '7ac8224504f430258be5cf7c3e21bd2611fa7c77.flv': [[87.0, 102.0], [102.0, 117.0], [117.0, 132.0], [132.0, 147.0], [147.0, 162.0], [162.0, 177.0], [177.0, 192.0], [192.0, 207.0], [207.0, 222.0], [222.0, 237.0], [237.0, 252.0], [252.0, 267.0], [267.0, 282.0], [282.0, 297.0], [297.0, 312.0], [312.0, 327.0], [327.0, 342.0], [342.0, 357.0], [357.0, 372.0], [372.0, 387.0], [387.0, 402.0], [402.0, 417.0], [417.0, 432.0], [432.0, 447.0], [447.0, 462.0], [462.0, 477.0], [477.0, 492.0], [492.0, 507.0], [507.0, 522.0], [522.0, 537.0], [537.0, 552.0], [552.0, 567.0], [567.0, 582.0], [582.0, 597.0], [597.0, 612.0], [612.0, 627.0], [627.0, 642.0], [642.0, 657.0], [657.0, 672.0], [672.0, 687.0], [687.0, 702.0], [702.0, 717.0], [717.0, 732.0], [732.0, 747.0], [747.0, 762.0], [762.0, 777.0], [777.0, 792.0], [792.0, 807.0], [807.0, 822.0], [822.0, 837.0], [837.0, 852.0], [852.0, 867.0], [867.0, 882.0], [882.0, 897.0], [897.0, 912.0], [912.0, 916.92]], '0421e862855ae81fd14e804d0758ab7917b5335c.flv': [[36.0, 51.0], [51.0, 63.0]], '1a9a30abe7dee2eaa52c82490ee117cc399f583e.flv': [[573.0, 581.54]], '200130e0c39f0239a22ad3f873feac30e88134df.flv': [[0, 15], [15, 29.0], [35.0, 50.0], [50.0, 65.0], [65.0, 72.0], [77.0, 84.0], [92.0, 107.0], [107.0, 122.0], [122.0, 137.0], [137.0, 152.0], [152.0, 161.01]], '25b4ccc2b3166b565dde7192ed3b7b43921439dd.flv': [[0, 6.0], [16.0, 31.0], [31.0, 44.0], [66.0, 81.0], [81.0, 96.0], [96.0, 111.0], [111.0, 126.0], [126.0, 129.0], [137.0, 152.0], [152.0, 167.0], [167.0, 182.0], [182.0, 196.0], [210.0, 225.0], [225.0, 240.0], [240.0, 255.0], [255.0, 255.2]], '25ba77da725f9247cf8a84bb370cf40ac74297d2.flv': [[438.0, 453.0], [453.0, 468.0], [468.0, 483.0], [483.0, 498.0], [498.0, 513.0], [513.0, 528.0], [528.0, 533.52]], '31a250020d2cd699bc5fc42897f7522043713cf5.flv': [[50.0, 65.0], [65.0, 71.0], [73.0, 88.0], [88.0, 103.0], [103.0, 118.0], [118.0, 124.0], [128.0, 143.0], [143.0, 158.0], [158.0, 173.0], [173.0, 188.0], [188.0, 188.04]], '5aff6ecadb439bb9c16a215188258f9474052fae.flv': [[0, 13.0], [27.0, 37.0], [54.0, 69.0], [69.0, 84.0], [84.0, 99.0], [99.0, 114.0], [114.0, 129.0], [129.0, 144.0], [144.0, 159.0], [159.0, 174.0], [174.0, 189.0], [189.0, 204.0], [204.0, 219.0], [219.0, 234.0], [234.0, 249.0], [249.0, 264.0], [264.0, 279.0], [279.0, 294.0], [294.0, 309.0], [309.0, 320.12]], '694b83f937e8ae9a390c5ed1004d5ef1f8643ae4.flv': [[250.0, 265.0], [265.0, 271.29]], '7033506abf8c15d8f22f26f9ad88dd531cbffb8f.flv': [[0, 15], [15, 30], [30, 38.0], [131.0, 146.0], [146.0, 161.0], [161.0, 162.62]], '704ed7f6755163d92e4344ede58a30e14ceb5ed4.flv': [[0, 15], [15, 16.0]], '743b4b30bf4fa11e3231dd0cc319016db1cb5b73.flv': [[0, 15], [15, 20.0]], '7759574accbb8bf3b47365c39f31ba8a728481c4.flv': [[0, 15], [15, 24.0], [40.0, 55.0], [55.0, 64.0], [231.0, 240.0], [242.0, 257.0], [257.0, 257.79]], '8bb9090a95a07edf2fd021d64335bf7b4f428eb2.flv': [[0, 15], [15, 30], [30, 45], [45, 53.0], [176.0, 191.0], [191.0, 206.0], [206.0, 221.0], [221.0, 232.0], [235.0, 250.0], [250.0, 265.0], [265.0, 280.0], [280.0, 295.0], [295.0, 310.0], [310.0, 325.0], [325.0, 340.0], [340.0, 355.0], [355.0, 370.0], [370.0, 385.0], [385.0, 400.0], [400.0, 415.0], [415.0, 430.0], [430.0, 445.0], [445.0, 460.0], [460.0, 475.0], [475.0, 490.0], [490.0, 505.0], [505.0, 520.0], [520.0, 535.0], [535.0, 537.07]], '952cdd6aa1a8c2f63f9900960b3e18ffb217b97f.flv': [[562.0, 577.0], [577.0, 592.0], [592.0, 607.0], [607.0, 622.0], [622.0, 637.0], [637.0, 652.0], [652.0, 667.0], [667.0, 682.0], [682.0, 697.0], [697.0, 712.0], [712.0, 727.0], [727.0, 742.0], [742.0, 757.0], [757.0, 772.0], [772.0, 787.0], [787.0, 802.0], [802.0, 817.0], [817.0, 832.0], [832.0, 847.0], [847.0, 862.0], [862.0, 870.97]], '96642d7998cdd226b395153b7d8f3d36655c0176.flv': [[0, 8.0], [238.0, 249.44]], '9f3d3762943c662470d78368a29a067952a97933.flv': [[55.0, 69.0], [73.0, 88.0], [88.0, 103.0], [103.0, 118.0], [118.0, 133.0], [133.0, 148.0], [148.0, 163.0], [163.0, 178.0], [178.0, 193.0], [193.0, 196.2]], 'aba6851ca7f78f3a83216005bef58766e3dfb26d.flv': [[0, 15], [15, 16.0], [35.0, 50.0], [50.0, 53.0], [100.0, 115.0], [115.0, 130.0], [130.0, 145.0], [145.0, 159.0], [195.0, 210.0], [210.0, 220.03]], 'bdce7faffa2ce63db64ddab4fa10ac6752079020.flv': [[0, 15], [15, 30], [30, 45], [45, 60], [60, 75], [75, 90], [90, 105], [105, 120], [120, 135], [135, 150], [150, 165], [165, 180], [180, 195], [195, 210], [210, 225], [225, 240], [240, 255], [255, 270], [270, 285], [285, 300], [300, 315], [315, 330.0], [337.0, 352.0], [352.0, 367.0], [367.0, 382.0], [382.0, 397.0], [397.0, 412.0], [412.0, 427.0], [427.0, 442.0], [442.0, 457.0], [457.0, 472.0], [472.0, 487.0], [487.0, 502.0], [502.0, 517.0], [517.0, 532.0], [532.0, 547.0], [547.0, 562.0], [562.0, 577.0], [577.0, 592.0], [592.0, 607.0], [607.0, 622.0], [622.0, 637.0], [637.0, 652.0], [652.0, 667.0], [667.0, 682.0], [682.0, 697.0], [697.0, 712.0], [712.0, 719.0]], 'e7831eba03ee7083a9d547fdde6adadaa05f3eeb.flv': [[54.0, 69.0], [69.0, 84.0], [84.0, 99.0], [99.0, 106.0], [109.0, 124.0], [124.0, 139.0], [139.0, 154.0], [154.0, 169.0], [169.0, 184.0], [184.0, 199.0], [199.0, 214.0], [214.0, 229.0], [229.0, 244.0], [244.0, 259.0], [259.0, 274.0], [274.0, 289.0], [289.0, 304.0], [304.0, 319.0], [319.0, 319.4]], '2a3a855c1a79ccfda28c57c4a2bcdaa85c725787.flv': [[145.0, 153.0]], '481f7052a3be44d9f7d1f6d2f809c0a4f17cb175.mp4': [[0, 5.0]], '75b4b9a9fc4801a2f625297c698e5eef4ec37cfe.flv': [[0, 15], [15, 30], [30, 45], [45, 60], [60, 75], [75, 90], [90, 96.0], [122.0, 137.0], [137.0, 152.0], [152.0, 167.0], [167.0, 182.0], [182.0, 197.0], [197.0, 212.0], [212.0, 227.0], [227.0, 242.0], [242.0, 257.0], [257.0, 270.36]], 'c9cee9c02cc23af3a26ee9548b895addd643974f.flv': [[0, 7.0], [220.0, 228.43]], 'da1854c05d28b4d56f176c1aae5b14d7b9e36536.flv': [[254.0, 269.0], [269.0, 284.0], [284.0, 291.09000000000003]], '09516f733d69613b8f6085b83d0aacd6f1a7f75d.mp4': [[0, 15], [15, 30], [30, 40.0], [102.0, 110.0], [256.0, 266.26]], '42daf76df2f31f0805f2f3f766bb348bb24feac7.flv': [[0, 12.0]], '55aed88a8ca6116c8f83f3c0220414aa3d460ead.flv': [[0, 15], [15, 30], [30, 39.0], [46.0, 59.0], [123.0, 128.0], [160.0, 175.0], [175.0, 190.0], [190.0, 192.0], [199.0, 214.0], [214.0, 229.0], [229.0, 244.0], [244.0, 247.57]], '60b45a875979efba30700f8e55728d17f0857212.flv': [[0, 15], [15, 30], [30, 45], [45, 60], [60, 75], [75, 90], [90, 105], [105, 120], [120, 135], [135, 150], [150, 165], [165, 180], [180, 195], [195, 210], [210, 225], [225, 240], [240, 255], [255, 259.0], [299.0, 304.88]], '92e46a8b5dcc5f1ad5db96e626d56234470f3c28.flv': [[0, 15], [15, 30], [30, 45], [45, 60], [60, 75], [75, 90], [90, 105], [105, 111.0], [269.0, 282.04]], '9ad3cc564c4f1b52ce076068e3830a70b9abccbf.flv': [[85.0, 100.0], [100.0, 115.0]], 'b61905d41276ccf2af59d4985158f8b1ce1d4990.flv': [[0, 11.0], [60.0, 66.0]], 'b75d15d45b34b0aba85ebc67fdc9fac93e20fd26.flv': [[0, 12.0], [70.0, 85.0], [85.0, 92.0], [130.0, 137.68]], 'beb8ec624aae490c6f21a7bc7330da8e839623fb.mp4': [[60.0, 72.07]], 'e862343f349018b392c1a389ff71cbe5eea67666.flv': [[0, 9.0], [70.0, 80.24]], '1e2598afd4d6a8728d6c0076354477db59702a5a.flv': [[12.0, 27.0], [27.0, 42.0], [42.0, 57.0], [57.0, 72.0], [72.0, 80.0], [82.0, 94.0], [97.0, 105.0], [114.0, 129.0], [129.0, 144.0], [144.0, 152.0], [155.0, 170.0], [170.0, 181.0], [186.0, 198.0], [206.0, 212.0], [214.0, 229.0], [229.0, 231.6]], '4a84b3090139a049a0dfd9cd4ae6db8b446fec99.flv': [[0, 7.0], [23.0, 38.0], [38.0, 53.0], [53.0, 68.0], [68.0, 81.0], [101.0, 116.0], [116.0, 131.0], [131.0, 146.0], [146.0, 161.0], [161.0, 176.0], [176.0, 191.0], [191.0, 203.0], [311.0, 324.97]], '9067be820dde81e11fc69146317995110f408627.flv': [[27.0, 42.0], [42.0, 57.0], [57.0, 72.0], [72.0, 87.0], [87.0, 102.0], [102.0, 117.0], [117.0, 132.0], [132.0, 147.0], [147.0, 162.0], [162.0, 177.0], [177.0, 192.0], [192.0, 207.0], [207.0, 222.0], [222.0, 237.0], [237.0, 252.0], [252.0, 259.0], [292.0, 307.0], [307.0, 322.0], [322.0, 337.0], [337.0, 352.0], [352.0, 367.0], [367.0, 382.0], [382.0, 397.0], [397.0, 412.0], [412.0, 427.0], [427.0, 442.0], [442.0, 457.0], [457.0, 472.0], [472.0, 487.0], [487.0, 502.0], [502.0, 517.0], [517.0, 532.0], [532.0, 547.0], [547.0, 562.0], [562.0, 577.0], [577.0, 592.0], [592.0, 607.0], [607.0, 622.0], [622.0, 637.0], [637.0, 652.0], [652.0, 667.0], [667.0, 682.0], [682.0, 697.0], [697.0, 712.0], [712.0, 727.0], [727.0, 742.0], [742.0, 757.0], [757.0, 772.0], [772.0, 787.0], [787.0, 802.0], [802.0, 817.0], [817.0, 832.0], [832.0, 847.0], [847.0, 862.0], [862.0, 877.0], [877.0, 892.0], [892.0, 907.0], [907.0, 922.0], [922.0, 922.16]], '93cad7675cea2f7c761ad9fc2ee72baee61f38e3.flv': [[0, 15], [15, 30], [30, 45], [45, 51.0], [67.0, 82.0], [82.0, 97.0], [97.0, 112.0], [112.0, 127.0], [127.0, 142.0], [142.0, 145.0], [157.0, 165.0], [169.0, 184.0], [184.0, 199.0], [199.0, 214.0], [214.0, 229.0], [229.0, 239.0], [287.0, 296.96]], '9e94d3404faee3a1e3c78fb33064319511428103.flv': [[42.0, 57.0], [57.0, 72.0], [72.0, 87.0], [87.0, 102.0], [102.0, 113.0], [133.0, 141.0], [157.0, 172.0], [172.0, 187.0], [187.0, 202.0], [202.0, 211.0], [250.0, 263.0], [305.0, 315.45]], 'a62ac3f909e921e2ae89e2ed4c272cfadab838a3.mp4': [[11.0, 26.0], [26.0, 41.0], [41.0, 45.0], [72.0, 77.0]], 'b4d71ae78d81a607ddc2951bfd0a2e3ce46e6d91.flv': [[0, 15], [15, 30], [30, 45], [45, 60], [60, 75], [75, 90], [90, 105], [105, 120], [120, 121.0], [173.0, 188.0], [188.0, 202.0], [246.0, 261.0], [261.0, 276.0], [276.0, 291.0], [291.0, 306.0], [306.0, 321.0], [321.0, 336.0], [336.0, 351.0], [351.0, 366.0], [366.0, 381.0], [381.0, 396.0], [396.0, 411.0], [411.0, 426.0], [426.0, 441.0], [441.0, 456.0], [456.0, 471.0], [471.0, 480.31]], 'c3ca62e39b8118a8773999ca5ed4757784032371.flv': [[169.0, 184.0], [184.0, 199.0], [199.0, 214.0], [214.0, 229.0], [229.0, 244.0], [244.0, 259.0], [259.0, 274.0], [274.0, 274.06]], 'cbe5dff0d1f7658b8e37d32ade9fd9b27a9f3fc9.flv': [[0, 15], [15, 22.0], [75.0, 90.0], [90.0, 93.0], [148.0, 156.0]], 'cf6db37d583044431cc33c4c723988cb6c5edc46.flv': [[116.0, 131.0], [131.0, 134.0], [302.0, 311.96]], 'fa89363182761c182136f54fc7650930265a5bb4.flv': [[0, 15], [15, 30], [30, 36.0], [208.0, 223.0], [223.0, 238.0], [238.0, 253.0], [253.0, 268.0], [268.0, 283.0], [283.0, 298.0], [298.0, 298.72]], '0908a93749a07da23df25c1e7e13c4ceaeca1e23.flv': [[0, 11.0], [240.0, 255.0], [255.0, 264.72]], '28e2a70b9a97f4f501ec673368cdd9caa1d00831.flv': [[0, 15], [15, 30], [30, 45], [45, 60], [60, 75], [75, 90], [90, 105], [105, 120], [120, 128.0]], 'b97bd2c745407e22c671d36b64a5be29659aa0ba.mp4': [[0, 15], [15, 30], [30, 45], [45, 60.0], [78.0, 93.0], [93.0, 108.0], [108.0, 123.0], [123.0, 138.0], [138.0, 146.6]], '2d033b088c2a341267c1329439506c206d6e7a87.flv': [[89.0, 95.03999999999999]], '34d8301dfa17beef7c5a703c03765e328c2c108e.flv': [[0, 10.0]], '48410b965d9e38987584d5ac39e3da0066a541df.flv': [[0, 15], [15, 30], [30, 45], [45, 60], [60, 75], [75, 90], [90, 105], [105, 120], [120, 135], [135, 150], [150, 165], [165, 167.0], [171.0, 186.0], [186.0, 199.0], [202.0, 209.0], [217.0, 232.0], [232.0, 247.0], [247.0, 259.0], [274.0, 279.48]], '524ef63fbe3c17ac7dce07f21e19c22841269580.flv': [[0, 14.0], [28.0, 43.0], [43.0, 58.0], [58.0, 73.0], [73.0, 88.0], [88.0, 93.43]], '5ceebbdf8bac4c15ff4657c73feee58dedd67c78.flv': [[157.0, 172.0], [172.0, 187.0], [187.0, 202.0], [202.0, 217.0], [217.0, 232.0], [232.0, 247.0], [247.0, 262.0], [262.0, 277.0], [277.0, 292.0], [292.0, 307.0], [307.0, 322.0], [322.0, 337.0], [337.0, 352.0], [352.0, 356.56]], '8b183ce1a33c5ab3eec1b3dc91e29b98f52bd3c1.flv': [[0, 12.0], [24.0, 30.66]], '8eced8631e728d892ecce8b2d916e8f12c03f63b.flv': [[0, 15], [15, 30], [30, 45], [45, 60], [60, 75], [75, 90], [90, 105], [105, 120], [120, 133.0], [146.0, 160.0], [187.0, 202.0], [202.0, 217.0], [217.0, 232.0], [232.0, 247.0], [247.0, 262.0], [262.0, 277.0], [277.0, 292.0], [292.0, 307.0], [307.0, 317.04]], '90b2f3863d924c7aef594b86c1d3a10092ff141e.mp4': [[0, 15], [15, 30], [30, 45], [45, 60], [60, 75], [75, 90], [90, 92.0], [106.0, 121.0], [121.0, 136.0], [136.0, 151.0], [151.0, 166.0], [186.0, 201.0], [201.0, 216.0], [216.0, 231.0], [231.0, 246.0], [246.0, 261.0], [261.0, 276.0], [276.0, 286.82]], 'c1ffd1a86d2b2451edda0bb4b25c914350aa9826.mp4': [[0, 15], [15, 30], [30, 45], [45, 60], [60, 75], [75, 90], [90, 105], [105, 120], [120, 135], [135, 150], [150, 165], [165, 180], [180, 195], [195, 210], [210, 225], [225, 240], [240, 255], [255, 270], [270, 285], [285, 300], [300, 315], [315, 330], [330, 345], [345, 360], [360, 375], [375, 390], [390, 405], [405, 407.0], [556.0, 571.0], [571.0, 586.0], [586.0, 601.0], [601.0, 616.0], [616.0, 631.0], [631.0, 646.0], [646.0, 655.47]], 'ec6d9578723211eebde91393c69ba9f84507431c.mp4': [[138.0, 150.72]], '6280e17346f8c34c231180e8d659f804d111fa6b.mp4': [[0, 11.0]], '7fdf8f5e4fb91b1af5b016242ad70fd0d74abb42.flv': [[7.0, 12.0], [36.0, 51.0], [51.0, 53.0], [304.0, 319.0], [319.0, 334.0], [334.0, 349.0], [349.0, 351.48]], '9f7862bcee961fdec039a3f287ad7c8351cfbed9.flv': [[0, 5.0], [190.0, 205.0], [205.0, 220.0], [220.0, 225.72]], '0ab11b52561e9255423b01f29f7904a6dcadd87b.flv': [[45.0, 53.44]], '0c06d64856ceae3c5146fd0cae9ac6fc5107083e.flv': [[9.0, 17.15]], '0dbcff0b6d671e1579ad468eed54d84f7e9b7289.mp4': [[0, 5.0], [11.0, 16.0], [18.0, 33.0], [33.0, 35.0], [37.0, 52.0], [52.0, 58.0], [77.0, 83.76]], '13f06a567cbee6f40952cc13817a7774caa72903.flv': [[46.0, 60.96]], '1e04e15f77363ebb7cdfb8811cd3d5d6d8b18305.flv': [[0, 15], [15, 30.0], [39.0, 54.0], [54.0, 69.0], [69.0, 70.7]], '2d38fff9674d85ddccdd873df98475153c20aedd.flv': [[0, 8.0]], '5a6a49b7660b858476a69819cdf15a13ecf13c36.mp4': [[23.0, 38.0], [38.0, 39.0]], 'afc75e8c02a5ecba44739b0623befa16afa1d896.flv': [[0, 9.0], [26.0, 33.43]], 'b91aa7020c5dd0a6518d11f745b275363f854bce.flv': [[0, 13.0]], 'cb593efe5b194fe67a8e5ffe33b35cca954cdcd4.flv': [[0, 15], [15, 30], [30, 35.0], [43.0, 58.0], [58.0, 73.0], [73.0, 88.0], [88.0, 103.0], [103.0, 118.0], [118.0, 130.0]], 'cc3b8791039b9e7f664260d76f8ca6cc48004823.flv': [[9.0, 24.0], [24.0, 36.0], [52.0, 67.0], [67.0, 75.94]]}\n"
     ]
    }
   ],
   "execution_count": 15
  },
  {
   "metadata": {
    "ExecuteTime": {
     "end_time": "2024-11-25T17:42:13.909579Z",
     "start_time": "2024-11-25T17:42:13.905551Z"
    }
   },
   "cell_type": "code",
   "source": [
    "new_rows = []\n",
    "for video in final_non_overlapping_segments:\n",
    "    # Use the length from the video_lengths dictionary for each video\n",
    "    length = video_lengths.get(video, 0)\n",
    "\n",
    "    # Add all intervals for this video (even if it's a gap)\n",
    "    for gap in final_non_overlapping_segments.get(video, [[0, length]]):  # Use the whole video as one interval if no gaps\n",
    "        new_rows.append({\n",
    "            'source_video': video,\n",
    "            'target_video': None,\n",
    "            'source_start': gap[0],\n",
    "            'source_end': gap[1],\n",
    "            'target_start': None,\n",
    "            'target_end': None,\n",
    "            'group': None,  # You can set appropriate group here\n",
    "            'category': video2dir[video],  # You can set appropriate category here\n",
    "            'is_duplicate': False  # Mark as not a duplicate\n",
    "        })"
   ],
   "id": "643de757b0e96387",
   "outputs": [],
   "execution_count": 16
  },
  {
   "metadata": {
    "ExecuteTime": {
     "end_time": "2024-11-25T17:42:18.833763Z",
     "start_time": "2024-11-25T17:42:18.831069Z"
    }
   },
   "cell_type": "code",
   "source": "len(new_rows)",
   "id": "f0f51cfafe013fc8",
   "outputs": [
    {
     "data": {
      "text/plain": [
       "1690"
      ]
     },
     "execution_count": 17,
     "metadata": {},
     "output_type": "execute_result"
    }
   ],
   "execution_count": 17
  },
  {
   "metadata": {
    "ExecuteTime": {
     "end_time": "2024-11-25T17:42:23.519957Z",
     "start_time": "2024-11-25T17:42:23.509518Z"
    }
   },
   "cell_type": "code",
   "source": [
    "df = pd.concat([df, pd.DataFrame(new_rows)], ignore_index=True)\n",
    "df = df.sample(frac=1, random_state=42)\n",
    "df.reset_index(inplace=True, drop=True)"
   ],
   "id": "3c73e99c4b5b8b87",
   "outputs": [
    {
     "name": "stderr",
     "output_type": "stream",
     "text": [
      "/tmp/ipykernel_253821/1840844490.py:1: FutureWarning: The behavior of DataFrame concatenation with empty or all-NA entries is deprecated. In a future version, this will no longer exclude empty or all-NA columns when determining the result dtypes. To retain the old behavior, exclude the relevant entries before the concat operation.\n",
      "  df = pd.concat([df, pd.DataFrame(new_rows)], ignore_index=True)\n"
     ]
    }
   ],
   "execution_count": 18
  },
  {
   "metadata": {
    "ExecuteTime": {
     "end_time": "2024-11-25T17:42:26.174631Z",
     "start_time": "2024-11-25T17:42:26.168084Z"
    }
   },
   "cell_type": "code",
   "source": "df.head()",
   "id": "346ba847de83b2d2",
   "outputs": [
    {
     "data": {
      "text/plain": [
       "                                   source_video  \\\n",
       "0  2e246b45e7dfba0a7cfb2beb557c40d81dc02c99.flv   \n",
       "1  1e2598afd4d6a8728d6c0076354477db59702a5a.flv   \n",
       "2  c6d6d37c73f364e3902407e1da07c8e354f66c13.flv   \n",
       "3  458db5aa227ae49ceb8bc1bed5f9cf5b4bed63f2.flv   \n",
       "4  09b682c899b0727e9990d8e347cdce3df7c5550e.flv   \n",
       "\n",
       "                                   target_video  source_start  source_end  \\\n",
       "0  3ed4f5c0eb04c94353594e8be1a72bcc657e27c7.flv          24.0        25.0   \n",
       "1                                          None         186.0       198.0   \n",
       "2                                          None         677.0       692.0   \n",
       "3  6d1466ebc4de7e5ddb229bde090b5c5acac15c0c.flv           8.0        10.0   \n",
       "4  d2015b438b70f022967713d6f977ebc67a16839e.flv          15.0        25.0   \n",
       "\n",
       "   target_start  target_end group                                category  \\\n",
       "0          15.0        22.0   210                    maradona_hand_of_god   \n",
       "1           NaN         NaN  None            the_last_samurai_last_battle   \n",
       "2           NaN         NaN  None              president_obama_takes_oath   \n",
       "3           4.0         6.0     0                     baggio_penalty_1994   \n",
       "4         193.0       203.0    71  david_beckham_lights_the_olympic_torch   \n",
       "\n",
       "   is_duplicate  \n",
       "0          True  \n",
       "1         False  \n",
       "2         False  \n",
       "3          True  \n",
       "4          True  "
      ],
      "text/html": [
       "<div>\n",
       "<style scoped>\n",
       "    .dataframe tbody tr th:only-of-type {\n",
       "        vertical-align: middle;\n",
       "    }\n",
       "\n",
       "    .dataframe tbody tr th {\n",
       "        vertical-align: top;\n",
       "    }\n",
       "\n",
       "    .dataframe thead th {\n",
       "        text-align: right;\n",
       "    }\n",
       "</style>\n",
       "<table border=\"1\" class=\"dataframe\">\n",
       "  <thead>\n",
       "    <tr style=\"text-align: right;\">\n",
       "      <th></th>\n",
       "      <th>source_video</th>\n",
       "      <th>target_video</th>\n",
       "      <th>source_start</th>\n",
       "      <th>source_end</th>\n",
       "      <th>target_start</th>\n",
       "      <th>target_end</th>\n",
       "      <th>group</th>\n",
       "      <th>category</th>\n",
       "      <th>is_duplicate</th>\n",
       "    </tr>\n",
       "  </thead>\n",
       "  <tbody>\n",
       "    <tr>\n",
       "      <th>0</th>\n",
       "      <td>2e246b45e7dfba0a7cfb2beb557c40d81dc02c99.flv</td>\n",
       "      <td>3ed4f5c0eb04c94353594e8be1a72bcc657e27c7.flv</td>\n",
       "      <td>24.0</td>\n",
       "      <td>25.0</td>\n",
       "      <td>15.0</td>\n",
       "      <td>22.0</td>\n",
       "      <td>210</td>\n",
       "      <td>maradona_hand_of_god</td>\n",
       "      <td>True</td>\n",
       "    </tr>\n",
       "    <tr>\n",
       "      <th>1</th>\n",
       "      <td>1e2598afd4d6a8728d6c0076354477db59702a5a.flv</td>\n",
       "      <td>None</td>\n",
       "      <td>186.0</td>\n",
       "      <td>198.0</td>\n",
       "      <td>NaN</td>\n",
       "      <td>NaN</td>\n",
       "      <td>None</td>\n",
       "      <td>the_last_samurai_last_battle</td>\n",
       "      <td>False</td>\n",
       "    </tr>\n",
       "    <tr>\n",
       "      <th>2</th>\n",
       "      <td>c6d6d37c73f364e3902407e1da07c8e354f66c13.flv</td>\n",
       "      <td>None</td>\n",
       "      <td>677.0</td>\n",
       "      <td>692.0</td>\n",
       "      <td>NaN</td>\n",
       "      <td>NaN</td>\n",
       "      <td>None</td>\n",
       "      <td>president_obama_takes_oath</td>\n",
       "      <td>False</td>\n",
       "    </tr>\n",
       "    <tr>\n",
       "      <th>3</th>\n",
       "      <td>458db5aa227ae49ceb8bc1bed5f9cf5b4bed63f2.flv</td>\n",
       "      <td>6d1466ebc4de7e5ddb229bde090b5c5acac15c0c.flv</td>\n",
       "      <td>8.0</td>\n",
       "      <td>10.0</td>\n",
       "      <td>4.0</td>\n",
       "      <td>6.0</td>\n",
       "      <td>0</td>\n",
       "      <td>baggio_penalty_1994</td>\n",
       "      <td>True</td>\n",
       "    </tr>\n",
       "    <tr>\n",
       "      <th>4</th>\n",
       "      <td>09b682c899b0727e9990d8e347cdce3df7c5550e.flv</td>\n",
       "      <td>d2015b438b70f022967713d6f977ebc67a16839e.flv</td>\n",
       "      <td>15.0</td>\n",
       "      <td>25.0</td>\n",
       "      <td>193.0</td>\n",
       "      <td>203.0</td>\n",
       "      <td>71</td>\n",
       "      <td>david_beckham_lights_the_olympic_torch</td>\n",
       "      <td>True</td>\n",
       "    </tr>\n",
       "  </tbody>\n",
       "</table>\n",
       "</div>"
      ]
     },
     "execution_count": 19,
     "metadata": {},
     "output_type": "execute_result"
    }
   ],
   "execution_count": 19
  },
  {
   "metadata": {},
   "cell_type": "markdown",
   "source": "## Save the resulting dataframe",
   "id": "8a0ce784d285b016"
  },
  {
   "metadata": {
    "ExecuteTime": {
     "end_time": "2024-11-25T17:42:49.630877Z",
     "start_time": "2024-11-25T17:42:49.582110Z"
    }
   },
   "cell_type": "code",
   "source": "df.to_csv(\"data.csv\", index=False)",
   "id": "d95ff6bcd9af0423",
   "outputs": [],
   "execution_count": 20
  }
 ],
 "metadata": {
  "kernelspec": {
   "display_name": "Python 3",
   "language": "python",
   "name": "python3"
  },
  "language_info": {
   "codemirror_mode": {
    "name": "ipython",
    "version": 2
   },
   "file_extension": ".py",
   "mimetype": "text/x-python",
   "name": "python",
   "nbconvert_exporter": "python",
   "pygments_lexer": "ipython2",
   "version": "2.7.6"
  }
 },
 "nbformat": 4,
 "nbformat_minor": 5
}
